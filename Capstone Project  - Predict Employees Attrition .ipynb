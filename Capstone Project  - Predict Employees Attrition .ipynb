{
 "cells": [
  {
   "cell_type": "markdown",
   "id": "realistic-implement",
   "metadata": {},
   "source": [
    "### This analysis is meant to find out factors that have significance in employees attrition, predict it and help      \n",
    "###                                            proactively prevent this from happening\n",
    "\n",
    "###### The Dataset used for this analysis is a fictional dataset provided by IBM data scientists\n",
    "###### Below are the main steps we will execute  and predict whether or not an employee is about to leave the company\n",
    "\n",
    "\n",
    "\n",
    " 1 - Exploratory Data Analysis\n",
    "\n",
    " 2 - Label encoding and Features selection \n",
    "\n",
    " 3 - Implementation of ML Algoriths"
   ]
  },
  {
   "cell_type": "code",
   "execution_count": 148,
   "id": "vocal-reproduction",
   "metadata": {},
   "outputs": [],
   "source": [
    "try:\n",
    "    sc.stop()\n",
    "except:\n",
    "    pass"
   ]
  },
  {
   "cell_type": "code",
   "execution_count": 149,
   "id": "referenced-asbestos",
   "metadata": {},
   "outputs": [],
   "source": [
    "from pyspark import SparkConf, SparkContext\n",
    "from pyspark.sql import SparkSession\n",
    "\n",
    "sc = SparkContext()\n",
    "\n",
    "spark = SparkSession(sparkContext= sc)"
   ]
  },
  {
   "cell_type": "code",
   "execution_count": 150,
   "id": "nutritional-photograph",
   "metadata": {},
   "outputs": [],
   "source": [
    "import numpy as np \n",
    "import pandas as pd \n",
    "import seaborn as sns\n",
    "import matplotlib.pyplot as plt\n",
    "%matplotlib inline"
   ]
  },
  {
   "cell_type": "markdown",
   "id": "different-candy",
   "metadata": {},
   "source": [
    "#### I - Exploratory Data Analysis"
   ]
  },
  {
   "cell_type": "code",
   "execution_count": 151,
   "id": "laughing-aging",
   "metadata": {},
   "outputs": [],
   "source": [
    "emp_df = spark.read.csv('file:///home/hadoop/Downloads/WA_Fn-UseC_-HR-Employee-Attrition.csv', sep = ',', header=True, inferSchema='true')"
   ]
  },
  {
   "cell_type": "code",
   "execution_count": 252,
   "id": "confused-intelligence",
   "metadata": {
    "collapsed": true
   },
   "outputs": [
    {
     "data": {
      "text/html": [
       "<div>\n",
       "<style scoped>\n",
       "    .dataframe tbody tr th:only-of-type {\n",
       "        vertical-align: middle;\n",
       "    }\n",
       "\n",
       "    .dataframe tbody tr th {\n",
       "        vertical-align: top;\n",
       "    }\n",
       "\n",
       "    .dataframe thead th {\n",
       "        text-align: right;\n",
       "    }\n",
       "</style>\n",
       "<table border=\"1\" class=\"dataframe\">\n",
       "  <thead>\n",
       "    <tr style=\"text-align: right;\">\n",
       "      <th></th>\n",
       "      <th>Age</th>\n",
       "      <th>Attrition</th>\n",
       "      <th>BusinessTravel</th>\n",
       "      <th>DailyRate</th>\n",
       "      <th>Department</th>\n",
       "      <th>DistanceFromHome</th>\n",
       "      <th>Education</th>\n",
       "      <th>EducationField</th>\n",
       "      <th>EnvironmentSatisfaction</th>\n",
       "      <th>Gender</th>\n",
       "      <th>...</th>\n",
       "      <th>PerformanceRating</th>\n",
       "      <th>RelationshipSatisfaction</th>\n",
       "      <th>StockOptionLevel</th>\n",
       "      <th>TotalWorkingYears</th>\n",
       "      <th>TrainingTimesLastYear</th>\n",
       "      <th>WorkLifeBalance</th>\n",
       "      <th>YearsAtCompany</th>\n",
       "      <th>YearsSinceLastPromotion</th>\n",
       "      <th>features</th>\n",
       "      <th>scaled_features</th>\n",
       "    </tr>\n",
       "  </thead>\n",
       "  <tbody>\n",
       "    <tr>\n",
       "      <th>0</th>\n",
       "      <td>41</td>\n",
       "      <td>1</td>\n",
       "      <td>2</td>\n",
       "      <td>1102</td>\n",
       "      <td>0</td>\n",
       "      <td>1</td>\n",
       "      <td>2</td>\n",
       "      <td>4</td>\n",
       "      <td>2</td>\n",
       "      <td>0</td>\n",
       "      <td>...</td>\n",
       "      <td>3</td>\n",
       "      <td>1</td>\n",
       "      <td>0</td>\n",
       "      <td>8</td>\n",
       "      <td>0</td>\n",
       "      <td>1</td>\n",
       "      <td>6</td>\n",
       "      <td>0</td>\n",
       "      <td>[41.0, 2.0, 1102.0, 0.0, 1.0, 2.0, 4.0, 2.0, 0...</td>\n",
       "      <td>[4.488048578282528, 2.5260813334497985, 2.7310...</td>\n",
       "    </tr>\n",
       "    <tr>\n",
       "      <th>1</th>\n",
       "      <td>49</td>\n",
       "      <td>0</td>\n",
       "      <td>0</td>\n",
       "      <td>279</td>\n",
       "      <td>1</td>\n",
       "      <td>8</td>\n",
       "      <td>1</td>\n",
       "      <td>4</td>\n",
       "      <td>3</td>\n",
       "      <td>1</td>\n",
       "      <td>...</td>\n",
       "      <td>4</td>\n",
       "      <td>4</td>\n",
       "      <td>1</td>\n",
       "      <td>10</td>\n",
       "      <td>3</td>\n",
       "      <td>3</td>\n",
       "      <td>10</td>\n",
       "      <td>1</td>\n",
       "      <td>[49.0, 0.0, 279.0, 1.0, 8.0, 1.0, 4.0, 3.0, 1....</td>\n",
       "      <td>[5.363765374044972, 0.0, 0.6914342205393799, 1...</td>\n",
       "    </tr>\n",
       "    <tr>\n",
       "      <th>2</th>\n",
       "      <td>37</td>\n",
       "      <td>1</td>\n",
       "      <td>2</td>\n",
       "      <td>1373</td>\n",
       "      <td>1</td>\n",
       "      <td>2</td>\n",
       "      <td>2</td>\n",
       "      <td>0</td>\n",
       "      <td>4</td>\n",
       "      <td>1</td>\n",
       "      <td>...</td>\n",
       "      <td>3</td>\n",
       "      <td>2</td>\n",
       "      <td>0</td>\n",
       "      <td>7</td>\n",
       "      <td>3</td>\n",
       "      <td>3</td>\n",
       "      <td>0</td>\n",
       "      <td>0</td>\n",
       "      <td>[37.0, 2.0, 1373.0, 1.0, 2.0, 2.0, 0.0, 4.0, 1...</td>\n",
       "      <td>[4.050190180401305, 2.5260813334497985, 3.4026...</td>\n",
       "    </tr>\n",
       "    <tr>\n",
       "      <th>3</th>\n",
       "      <td>33</td>\n",
       "      <td>0</td>\n",
       "      <td>0</td>\n",
       "      <td>1392</td>\n",
       "      <td>1</td>\n",
       "      <td>3</td>\n",
       "      <td>4</td>\n",
       "      <td>4</td>\n",
       "      <td>4</td>\n",
       "      <td>0</td>\n",
       "      <td>...</td>\n",
       "      <td>3</td>\n",
       "      <td>3</td>\n",
       "      <td>0</td>\n",
       "      <td>8</td>\n",
       "      <td>3</td>\n",
       "      <td>3</td>\n",
       "      <td>8</td>\n",
       "      <td>3</td>\n",
       "      <td>[33.0, 0.0, 1392.0, 1.0, 3.0, 4.0, 4.0, 4.0, 0...</td>\n",
       "      <td>[3.612331782520083, 0.0, 3.44973632613196, 1.8...</td>\n",
       "    </tr>\n",
       "    <tr>\n",
       "      <th>4</th>\n",
       "      <td>27</td>\n",
       "      <td>0</td>\n",
       "      <td>2</td>\n",
       "      <td>591</td>\n",
       "      <td>1</td>\n",
       "      <td>2</td>\n",
       "      <td>1</td>\n",
       "      <td>3</td>\n",
       "      <td>1</td>\n",
       "      <td>1</td>\n",
       "      <td>...</td>\n",
       "      <td>3</td>\n",
       "      <td>4</td>\n",
       "      <td>1</td>\n",
       "      <td>6</td>\n",
       "      <td>3</td>\n",
       "      <td>3</td>\n",
       "      <td>2</td>\n",
       "      <td>2</td>\n",
       "      <td>[27.0, 2.0, 591.0, 1.0, 2.0, 1.0, 3.0, 1.0, 1....</td>\n",
       "      <td>[2.95554418569825, 2.5260813334497985, 1.46465...</td>\n",
       "    </tr>\n",
       "  </tbody>\n",
       "</table>\n",
       "<p>5 rows × 29 columns</p>\n",
       "</div>"
      ],
      "text/plain": [
       "   Age  Attrition  BusinessTravel  DailyRate  Department  DistanceFromHome  \\\n",
       "0   41          1               2       1102           0                 1   \n",
       "1   49          0               0        279           1                 8   \n",
       "2   37          1               2       1373           1                 2   \n",
       "3   33          0               0       1392           1                 3   \n",
       "4   27          0               2        591           1                 2   \n",
       "\n",
       "   Education  EducationField  EnvironmentSatisfaction  Gender  ...  \\\n",
       "0          2               4                        2       0  ...   \n",
       "1          1               4                        3       1  ...   \n",
       "2          2               0                        4       1  ...   \n",
       "3          4               4                        4       0  ...   \n",
       "4          1               3                        1       1  ...   \n",
       "\n",
       "   PerformanceRating  RelationshipSatisfaction  StockOptionLevel  \\\n",
       "0                  3                         1                 0   \n",
       "1                  4                         4                 1   \n",
       "2                  3                         2                 0   \n",
       "3                  3                         3                 0   \n",
       "4                  3                         4                 1   \n",
       "\n",
       "   TotalWorkingYears  TrainingTimesLastYear  WorkLifeBalance  YearsAtCompany  \\\n",
       "0                  8                      0                1               6   \n",
       "1                 10                      3                3              10   \n",
       "2                  7                      3                3               0   \n",
       "3                  8                      3                3               8   \n",
       "4                  6                      3                3               2   \n",
       "\n",
       "   YearsSinceLastPromotion                                           features  \\\n",
       "0                        0  [41.0, 2.0, 1102.0, 0.0, 1.0, 2.0, 4.0, 2.0, 0...   \n",
       "1                        1  [49.0, 0.0, 279.0, 1.0, 8.0, 1.0, 4.0, 3.0, 1....   \n",
       "2                        0  [37.0, 2.0, 1373.0, 1.0, 2.0, 2.0, 0.0, 4.0, 1...   \n",
       "3                        3  [33.0, 0.0, 1392.0, 1.0, 3.0, 4.0, 4.0, 4.0, 0...   \n",
       "4                        2  [27.0, 2.0, 591.0, 1.0, 2.0, 1.0, 3.0, 1.0, 1....   \n",
       "\n",
       "                                     scaled_features  \n",
       "0  [4.488048578282528, 2.5260813334497985, 2.7310...  \n",
       "1  [5.363765374044972, 0.0, 0.6914342205393799, 1...  \n",
       "2  [4.050190180401305, 2.5260813334497985, 3.4026...  \n",
       "3  [3.612331782520083, 0.0, 3.44973632613196, 1.8...  \n",
       "4  [2.95554418569825, 2.5260813334497985, 1.46465...  \n",
       "\n",
       "[5 rows x 29 columns]"
      ]
     },
     "execution_count": 252,
     "metadata": {},
     "output_type": "execute_result"
    }
   ],
   "source": [
    "emp_df.toPandas().head()"
   ]
  },
  {
   "cell_type": "code",
   "execution_count": 10,
   "id": "wooden-tokyo",
   "metadata": {
    "collapsed": true
   },
   "outputs": [
    {
     "name": "stdout",
     "output_type": "stream",
     "text": [
      "root\n",
      " |-- Age: integer (nullable = true)\n",
      " |-- Attrition: string (nullable = true)\n",
      " |-- BusinessTravel: string (nullable = true)\n",
      " |-- DailyRate: integer (nullable = true)\n",
      " |-- Department: string (nullable = true)\n",
      " |-- DistanceFromHome: integer (nullable = true)\n",
      " |-- Education: integer (nullable = true)\n",
      " |-- EducationField: string (nullable = true)\n",
      " |-- EmployeeCount: integer (nullable = true)\n",
      " |-- EmployeeNumber: integer (nullable = true)\n",
      " |-- EnvironmentSatisfaction: integer (nullable = true)\n",
      " |-- Gender: string (nullable = true)\n",
      " |-- HourlyRate: integer (nullable = true)\n",
      " |-- JobInvolvement: integer (nullable = true)\n",
      " |-- JobLevel: integer (nullable = true)\n",
      " |-- JobRole: string (nullable = true)\n",
      " |-- JobSatisfaction: integer (nullable = true)\n",
      " |-- MaritalStatus: string (nullable = true)\n",
      " |-- MonthlyIncome: integer (nullable = true)\n",
      " |-- MonthlyRate: integer (nullable = true)\n",
      " |-- NumCompaniesWorked: integer (nullable = true)\n",
      " |-- Over18: string (nullable = true)\n",
      " |-- OverTime: string (nullable = true)\n",
      " |-- PercentSalaryHike: integer (nullable = true)\n",
      " |-- PerformanceRating: integer (nullable = true)\n",
      " |-- RelationshipSatisfaction: integer (nullable = true)\n",
      " |-- StandardHours: integer (nullable = true)\n",
      " |-- StockOptionLevel: integer (nullable = true)\n",
      " |-- TotalWorkingYears: integer (nullable = true)\n",
      " |-- TrainingTimesLastYear: integer (nullable = true)\n",
      " |-- WorkLifeBalance: integer (nullable = true)\n",
      " |-- YearsAtCompany: integer (nullable = true)\n",
      " |-- YearsInCurrentRole: integer (nullable = true)\n",
      " |-- YearsSinceLastPromotion: integer (nullable = true)\n",
      " |-- YearsWithCurrManager: integer (nullable = true)\n",
      "\n"
     ]
    }
   ],
   "source": [
    "emp_df.printSchema()"
   ]
  },
  {
   "cell_type": "code",
   "execution_count": 144,
   "id": "central-afternoon",
   "metadata": {},
   "outputs": [
    {
     "name": "stdout",
     "output_type": "stream",
     "text": [
      "+---------+-----+\n",
      "|Attrition|count|\n",
      "+---------+-----+\n",
      "|       No| 1233|\n",
      "|      Yes|  237|\n",
      "+---------+-----+\n",
      "\n"
     ]
    }
   ],
   "source": [
    "emp_df.groupby('Attrition').count().show()"
   ]
  },
  {
   "cell_type": "code",
   "execution_count": 145,
   "id": "single-peter",
   "metadata": {},
   "outputs": [
    {
     "name": "stdout",
     "output_type": "stream",
     "text": [
      "+-----------------+---------+-----+\n",
      "|PerformanceRating|Attrition|count|\n",
      "+-----------------+---------+-----+\n",
      "|                3|      Yes|  200|\n",
      "|                3|       No| 1044|\n",
      "|                4|       No|  189|\n",
      "|                4|      Yes|   37|\n",
      "+-----------------+---------+-----+\n",
      "\n"
     ]
    }
   ],
   "source": [
    "emp_df.groupby('PerformanceRating','Attrition').count().show() "
   ]
  },
  {
   "cell_type": "code",
   "execution_count": 8,
   "id": "worth-apartment",
   "metadata": {},
   "outputs": [
    {
     "data": {
      "text/plain": [
       "(1470, 35)"
      ]
     },
     "execution_count": 8,
     "metadata": {},
     "output_type": "execute_result"
    }
   ],
   "source": [
    "emp_df.toPandas().shape"
   ]
  },
  {
   "cell_type": "code",
   "execution_count": 9,
   "id": "anticipated-kuwait",
   "metadata": {
    "collapsed": true
   },
   "outputs": [
    {
     "data": {
      "text/html": [
       "<div>\n",
       "<style scoped>\n",
       "    .dataframe tbody tr th:only-of-type {\n",
       "        vertical-align: middle;\n",
       "    }\n",
       "\n",
       "    .dataframe tbody tr th {\n",
       "        vertical-align: top;\n",
       "    }\n",
       "\n",
       "    .dataframe thead th {\n",
       "        text-align: right;\n",
       "    }\n",
       "</style>\n",
       "<table border=\"1\" class=\"dataframe\">\n",
       "  <thead>\n",
       "    <tr style=\"text-align: right;\">\n",
       "      <th></th>\n",
       "      <th>0</th>\n",
       "      <th>1</th>\n",
       "      <th>2</th>\n",
       "      <th>3</th>\n",
       "      <th>4</th>\n",
       "    </tr>\n",
       "  </thead>\n",
       "  <tbody>\n",
       "    <tr>\n",
       "      <th>summary</th>\n",
       "      <td>count</td>\n",
       "      <td>mean</td>\n",
       "      <td>stddev</td>\n",
       "      <td>min</td>\n",
       "      <td>max</td>\n",
       "    </tr>\n",
       "    <tr>\n",
       "      <th>Age</th>\n",
       "      <td>1470</td>\n",
       "      <td>36.923809523809524</td>\n",
       "      <td>9.135373489136729</td>\n",
       "      <td>18</td>\n",
       "      <td>60</td>\n",
       "    </tr>\n",
       "    <tr>\n",
       "      <th>Attrition</th>\n",
       "      <td>1470</td>\n",
       "      <td>None</td>\n",
       "      <td>None</td>\n",
       "      <td>No</td>\n",
       "      <td>Yes</td>\n",
       "    </tr>\n",
       "    <tr>\n",
       "      <th>BusinessTravel</th>\n",
       "      <td>1470</td>\n",
       "      <td>None</td>\n",
       "      <td>None</td>\n",
       "      <td>Non-Travel</td>\n",
       "      <td>Travel_Rarely</td>\n",
       "    </tr>\n",
       "    <tr>\n",
       "      <th>DailyRate</th>\n",
       "      <td>1470</td>\n",
       "      <td>802.4857142857143</td>\n",
       "      <td>403.50909994352804</td>\n",
       "      <td>102</td>\n",
       "      <td>1499</td>\n",
       "    </tr>\n",
       "    <tr>\n",
       "      <th>Department</th>\n",
       "      <td>1470</td>\n",
       "      <td>None</td>\n",
       "      <td>None</td>\n",
       "      <td>Human Resources</td>\n",
       "      <td>Sales</td>\n",
       "    </tr>\n",
       "    <tr>\n",
       "      <th>DistanceFromHome</th>\n",
       "      <td>1470</td>\n",
       "      <td>9.19251700680272</td>\n",
       "      <td>8.10686443566608</td>\n",
       "      <td>1</td>\n",
       "      <td>29</td>\n",
       "    </tr>\n",
       "    <tr>\n",
       "      <th>Education</th>\n",
       "      <td>1470</td>\n",
       "      <td>2.912925170068027</td>\n",
       "      <td>1.0241649445978718</td>\n",
       "      <td>1</td>\n",
       "      <td>5</td>\n",
       "    </tr>\n",
       "    <tr>\n",
       "      <th>EducationField</th>\n",
       "      <td>1470</td>\n",
       "      <td>None</td>\n",
       "      <td>None</td>\n",
       "      <td>Human Resources</td>\n",
       "      <td>Technical Degree</td>\n",
       "    </tr>\n",
       "    <tr>\n",
       "      <th>EmployeeCount</th>\n",
       "      <td>1470</td>\n",
       "      <td>1.0</td>\n",
       "      <td>0.0</td>\n",
       "      <td>1</td>\n",
       "      <td>1</td>\n",
       "    </tr>\n",
       "    <tr>\n",
       "      <th>EmployeeNumber</th>\n",
       "      <td>1470</td>\n",
       "      <td>1024.865306122449</td>\n",
       "      <td>602.0243348474752</td>\n",
       "      <td>1</td>\n",
       "      <td>2068</td>\n",
       "    </tr>\n",
       "    <tr>\n",
       "      <th>EnvironmentSatisfaction</th>\n",
       "      <td>1470</td>\n",
       "      <td>2.721768707482993</td>\n",
       "      <td>1.0930822146350003</td>\n",
       "      <td>1</td>\n",
       "      <td>4</td>\n",
       "    </tr>\n",
       "    <tr>\n",
       "      <th>Gender</th>\n",
       "      <td>1470</td>\n",
       "      <td>None</td>\n",
       "      <td>None</td>\n",
       "      <td>Female</td>\n",
       "      <td>Male</td>\n",
       "    </tr>\n",
       "    <tr>\n",
       "      <th>HourlyRate</th>\n",
       "      <td>1470</td>\n",
       "      <td>65.89115646258503</td>\n",
       "      <td>20.329427593996176</td>\n",
       "      <td>30</td>\n",
       "      <td>100</td>\n",
       "    </tr>\n",
       "    <tr>\n",
       "      <th>JobInvolvement</th>\n",
       "      <td>1470</td>\n",
       "      <td>2.7299319727891156</td>\n",
       "      <td>0.7115611429632297</td>\n",
       "      <td>1</td>\n",
       "      <td>4</td>\n",
       "    </tr>\n",
       "    <tr>\n",
       "      <th>JobLevel</th>\n",
       "      <td>1470</td>\n",
       "      <td>2.0639455782312925</td>\n",
       "      <td>1.1069398989351202</td>\n",
       "      <td>1</td>\n",
       "      <td>5</td>\n",
       "    </tr>\n",
       "    <tr>\n",
       "      <th>JobRole</th>\n",
       "      <td>1470</td>\n",
       "      <td>None</td>\n",
       "      <td>None</td>\n",
       "      <td>Healthcare Representative</td>\n",
       "      <td>Sales Representative</td>\n",
       "    </tr>\n",
       "    <tr>\n",
       "      <th>JobSatisfaction</th>\n",
       "      <td>1470</td>\n",
       "      <td>2.7285714285714286</td>\n",
       "      <td>1.1028461230547213</td>\n",
       "      <td>1</td>\n",
       "      <td>4</td>\n",
       "    </tr>\n",
       "    <tr>\n",
       "      <th>MaritalStatus</th>\n",
       "      <td>1470</td>\n",
       "      <td>None</td>\n",
       "      <td>None</td>\n",
       "      <td>Divorced</td>\n",
       "      <td>Single</td>\n",
       "    </tr>\n",
       "    <tr>\n",
       "      <th>MonthlyIncome</th>\n",
       "      <td>1470</td>\n",
       "      <td>6502.931292517007</td>\n",
       "      <td>4707.956783097992</td>\n",
       "      <td>1009</td>\n",
       "      <td>19999</td>\n",
       "    </tr>\n",
       "    <tr>\n",
       "      <th>MonthlyRate</th>\n",
       "      <td>1470</td>\n",
       "      <td>14313.103401360544</td>\n",
       "      <td>7117.786044059972</td>\n",
       "      <td>2094</td>\n",
       "      <td>26999</td>\n",
       "    </tr>\n",
       "    <tr>\n",
       "      <th>NumCompaniesWorked</th>\n",
       "      <td>1470</td>\n",
       "      <td>2.6931972789115646</td>\n",
       "      <td>2.4980090060707463</td>\n",
       "      <td>0</td>\n",
       "      <td>9</td>\n",
       "    </tr>\n",
       "    <tr>\n",
       "      <th>Over18</th>\n",
       "      <td>1470</td>\n",
       "      <td>None</td>\n",
       "      <td>None</td>\n",
       "      <td>Y</td>\n",
       "      <td>Y</td>\n",
       "    </tr>\n",
       "    <tr>\n",
       "      <th>OverTime</th>\n",
       "      <td>1470</td>\n",
       "      <td>None</td>\n",
       "      <td>None</td>\n",
       "      <td>No</td>\n",
       "      <td>Yes</td>\n",
       "    </tr>\n",
       "    <tr>\n",
       "      <th>PercentSalaryHike</th>\n",
       "      <td>1470</td>\n",
       "      <td>15.209523809523809</td>\n",
       "      <td>3.6599377165396385</td>\n",
       "      <td>11</td>\n",
       "      <td>25</td>\n",
       "    </tr>\n",
       "    <tr>\n",
       "      <th>PerformanceRating</th>\n",
       "      <td>1470</td>\n",
       "      <td>3.1537414965986397</td>\n",
       "      <td>0.36082352460434397</td>\n",
       "      <td>3</td>\n",
       "      <td>4</td>\n",
       "    </tr>\n",
       "    <tr>\n",
       "      <th>RelationshipSatisfaction</th>\n",
       "      <td>1470</td>\n",
       "      <td>2.7122448979591836</td>\n",
       "      <td>1.0812088864403517</td>\n",
       "      <td>1</td>\n",
       "      <td>4</td>\n",
       "    </tr>\n",
       "    <tr>\n",
       "      <th>StandardHours</th>\n",
       "      <td>1470</td>\n",
       "      <td>80.0</td>\n",
       "      <td>0.0</td>\n",
       "      <td>80</td>\n",
       "      <td>80</td>\n",
       "    </tr>\n",
       "    <tr>\n",
       "      <th>StockOptionLevel</th>\n",
       "      <td>1470</td>\n",
       "      <td>0.7938775510204081</td>\n",
       "      <td>0.8520766679308381</td>\n",
       "      <td>0</td>\n",
       "      <td>3</td>\n",
       "    </tr>\n",
       "    <tr>\n",
       "      <th>TotalWorkingYears</th>\n",
       "      <td>1470</td>\n",
       "      <td>11.279591836734694</td>\n",
       "      <td>7.780781675514995</td>\n",
       "      <td>0</td>\n",
       "      <td>40</td>\n",
       "    </tr>\n",
       "    <tr>\n",
       "      <th>TrainingTimesLastYear</th>\n",
       "      <td>1470</td>\n",
       "      <td>2.7993197278911564</td>\n",
       "      <td>1.2892706207958466</td>\n",
       "      <td>0</td>\n",
       "      <td>6</td>\n",
       "    </tr>\n",
       "    <tr>\n",
       "      <th>WorkLifeBalance</th>\n",
       "      <td>1470</td>\n",
       "      <td>2.7612244897959184</td>\n",
       "      <td>0.7064758297141507</td>\n",
       "      <td>1</td>\n",
       "      <td>4</td>\n",
       "    </tr>\n",
       "    <tr>\n",
       "      <th>YearsAtCompany</th>\n",
       "      <td>1470</td>\n",
       "      <td>7.0081632653061225</td>\n",
       "      <td>6.126525152403571</td>\n",
       "      <td>0</td>\n",
       "      <td>40</td>\n",
       "    </tr>\n",
       "    <tr>\n",
       "      <th>YearsInCurrentRole</th>\n",
       "      <td>1470</td>\n",
       "      <td>4.229251700680272</td>\n",
       "      <td>3.623137034670627</td>\n",
       "      <td>0</td>\n",
       "      <td>18</td>\n",
       "    </tr>\n",
       "    <tr>\n",
       "      <th>YearsSinceLastPromotion</th>\n",
       "      <td>1470</td>\n",
       "      <td>2.1877551020408164</td>\n",
       "      <td>3.2224302791379693</td>\n",
       "      <td>0</td>\n",
       "      <td>15</td>\n",
       "    </tr>\n",
       "    <tr>\n",
       "      <th>YearsWithCurrManager</th>\n",
       "      <td>1470</td>\n",
       "      <td>4.12312925170068</td>\n",
       "      <td>3.5681361205404363</td>\n",
       "      <td>0</td>\n",
       "      <td>17</td>\n",
       "    </tr>\n",
       "  </tbody>\n",
       "</table>\n",
       "</div>"
      ],
      "text/plain": [
       "                              0                   1                    2  \\\n",
       "summary                   count                mean               stddev   \n",
       "Age                        1470  36.923809523809524    9.135373489136729   \n",
       "Attrition                  1470                None                 None   \n",
       "BusinessTravel             1470                None                 None   \n",
       "DailyRate                  1470   802.4857142857143   403.50909994352804   \n",
       "Department                 1470                None                 None   \n",
       "DistanceFromHome           1470    9.19251700680272     8.10686443566608   \n",
       "Education                  1470   2.912925170068027   1.0241649445978718   \n",
       "EducationField             1470                None                 None   \n",
       "EmployeeCount              1470                 1.0                  0.0   \n",
       "EmployeeNumber             1470   1024.865306122449    602.0243348474752   \n",
       "EnvironmentSatisfaction    1470   2.721768707482993   1.0930822146350003   \n",
       "Gender                     1470                None                 None   \n",
       "HourlyRate                 1470   65.89115646258503   20.329427593996176   \n",
       "JobInvolvement             1470  2.7299319727891156   0.7115611429632297   \n",
       "JobLevel                   1470  2.0639455782312925   1.1069398989351202   \n",
       "JobRole                    1470                None                 None   \n",
       "JobSatisfaction            1470  2.7285714285714286   1.1028461230547213   \n",
       "MaritalStatus              1470                None                 None   \n",
       "MonthlyIncome              1470   6502.931292517007    4707.956783097992   \n",
       "MonthlyRate                1470  14313.103401360544    7117.786044059972   \n",
       "NumCompaniesWorked         1470  2.6931972789115646   2.4980090060707463   \n",
       "Over18                     1470                None                 None   \n",
       "OverTime                   1470                None                 None   \n",
       "PercentSalaryHike          1470  15.209523809523809   3.6599377165396385   \n",
       "PerformanceRating          1470  3.1537414965986397  0.36082352460434397   \n",
       "RelationshipSatisfaction   1470  2.7122448979591836   1.0812088864403517   \n",
       "StandardHours              1470                80.0                  0.0   \n",
       "StockOptionLevel           1470  0.7938775510204081   0.8520766679308381   \n",
       "TotalWorkingYears          1470  11.279591836734694    7.780781675514995   \n",
       "TrainingTimesLastYear      1470  2.7993197278911564   1.2892706207958466   \n",
       "WorkLifeBalance            1470  2.7612244897959184   0.7064758297141507   \n",
       "YearsAtCompany             1470  7.0081632653061225    6.126525152403571   \n",
       "YearsInCurrentRole         1470   4.229251700680272    3.623137034670627   \n",
       "YearsSinceLastPromotion    1470  2.1877551020408164   3.2224302791379693   \n",
       "YearsWithCurrManager       1470    4.12312925170068   3.5681361205404363   \n",
       "\n",
       "                                                  3                     4  \n",
       "summary                                         min                   max  \n",
       "Age                                              18                    60  \n",
       "Attrition                                        No                   Yes  \n",
       "BusinessTravel                           Non-Travel         Travel_Rarely  \n",
       "DailyRate                                       102                  1499  \n",
       "Department                          Human Resources                 Sales  \n",
       "DistanceFromHome                                  1                    29  \n",
       "Education                                         1                     5  \n",
       "EducationField                      Human Resources      Technical Degree  \n",
       "EmployeeCount                                     1                     1  \n",
       "EmployeeNumber                                    1                  2068  \n",
       "EnvironmentSatisfaction                           1                     4  \n",
       "Gender                                       Female                  Male  \n",
       "HourlyRate                                       30                   100  \n",
       "JobInvolvement                                    1                     4  \n",
       "JobLevel                                          1                     5  \n",
       "JobRole                   Healthcare Representative  Sales Representative  \n",
       "JobSatisfaction                                   1                     4  \n",
       "MaritalStatus                              Divorced                Single  \n",
       "MonthlyIncome                                  1009                 19999  \n",
       "MonthlyRate                                    2094                 26999  \n",
       "NumCompaniesWorked                                0                     9  \n",
       "Over18                                            Y                     Y  \n",
       "OverTime                                         No                   Yes  \n",
       "PercentSalaryHike                                11                    25  \n",
       "PerformanceRating                                 3                     4  \n",
       "RelationshipSatisfaction                          1                     4  \n",
       "StandardHours                                    80                    80  \n",
       "StockOptionLevel                                  0                     3  \n",
       "TotalWorkingYears                                 0                    40  \n",
       "TrainingTimesLastYear                             0                     6  \n",
       "WorkLifeBalance                                   1                     4  \n",
       "YearsAtCompany                                    0                    40  \n",
       "YearsInCurrentRole                                0                    18  \n",
       "YearsSinceLastPromotion                           0                    15  \n",
       "YearsWithCurrManager                              0                    17  "
      ]
     },
     "execution_count": 9,
     "metadata": {},
     "output_type": "execute_result"
    }
   ],
   "source": [
    "emp_df.describe().toPandas().transpose()"
   ]
  },
  {
   "cell_type": "markdown",
   "id": "swedish-robert",
   "metadata": {},
   "source": [
    " Check for missing values - "
   ]
  },
  {
   "cell_type": "code",
   "execution_count": 11,
   "id": "desirable-pointer",
   "metadata": {
    "collapsed": true
   },
   "outputs": [
    {
     "name": "stdout",
     "output_type": "stream",
     "text": [
      "+---+---------+--------------+---------+----------+----------------+---------+--------------+-------------+--------------+-----------------------+------+----------+--------------+--------+-------+---------------+-------------+-------------+-----------+------------------+------+--------+-----------------+-----------------+------------------------+-------------+----------------+-----------------+---------------------+---------------+--------------+------------------+-----------------------+--------------------+\n",
      "|Age|Attrition|BusinessTravel|DailyRate|Department|DistanceFromHome|Education|EducationField|EmployeeCount|EmployeeNumber|EnvironmentSatisfaction|Gender|HourlyRate|JobInvolvement|JobLevel|JobRole|JobSatisfaction|MaritalStatus|MonthlyIncome|MonthlyRate|NumCompaniesWorked|Over18|OverTime|PercentSalaryHike|PerformanceRating|RelationshipSatisfaction|StandardHours|StockOptionLevel|TotalWorkingYears|TrainingTimesLastYear|WorkLifeBalance|YearsAtCompany|YearsInCurrentRole|YearsSinceLastPromotion|YearsWithCurrManager|\n",
      "+---+---------+--------------+---------+----------+----------------+---------+--------------+-------------+--------------+-----------------------+------+----------+--------------+--------+-------+---------------+-------------+-------------+-----------+------------------+------+--------+-----------------+-----------------+------------------------+-------------+----------------+-----------------+---------------------+---------------+--------------+------------------+-----------------------+--------------------+\n",
      "|  0|        0|             0|        0|         0|               0|        0|             0|            0|             0|                      0|     0|         0|             0|       0|      0|              0|            0|            0|          0|                 0|     0|       0|                0|                0|                       0|            0|               0|                0|                    0|              0|             0|                 0|                      0|                   0|\n",
      "+---+---------+--------------+---------+----------+----------------+---------+--------------+-------------+--------------+-----------------------+------+----------+--------------+--------+-------+---------------+-------------+-------------+-----------+------------------+------+--------+-----------------+-----------------+------------------------+-------------+----------------+-----------------+---------------------+---------------+--------------+------------------+-----------------------+--------------------+\n",
      "\n"
     ]
    }
   ],
   "source": [
    "from pyspark.sql.functions import *\n",
    "emp_df.select([count(when(isnull(c), c)).alias(c) for c in emp_df.columns]).show()"
   ]
  },
  {
   "cell_type": "markdown",
   "id": "announced-celtic",
   "metadata": {},
   "source": [
    "Count unique values "
   ]
  },
  {
   "cell_type": "code",
   "execution_count": 13,
   "id": "cooked-bangkok",
   "metadata": {},
   "outputs": [
    {
     "data": {
      "text/plain": [
       "6"
      ]
     },
     "execution_count": 13,
     "metadata": {},
     "output_type": "execute_result"
    }
   ],
   "source": [
    "emp_df.select('EducationField').distinct().count()"
   ]
  },
  {
   "cell_type": "code",
   "execution_count": 14,
   "id": "potential-quilt",
   "metadata": {},
   "outputs": [
    {
     "name": "stdout",
     "output_type": "stream",
     "text": [
      "+----------------+-----+\n",
      "|  EducationField|count|\n",
      "+----------------+-----+\n",
      "|Technical Degree|  132|\n",
      "|           Other|   82|\n",
      "|       Marketing|  159|\n",
      "|         Medical|  464|\n",
      "|   Life Sciences|  606|\n",
      "| Human Resources|   27|\n",
      "+----------------+-----+\n",
      "\n"
     ]
    }
   ],
   "source": [
    "emp_df.groupby('EducationField').count().show()"
   ]
  },
  {
   "cell_type": "code",
   "execution_count": 15,
   "id": "moral-economics",
   "metadata": {},
   "outputs": [
    {
     "data": {
      "text/plain": [
       "3"
      ]
     },
     "execution_count": 15,
     "metadata": {},
     "output_type": "execute_result"
    }
   ],
   "source": [
    "emp_df.select('Department').distinct().count()"
   ]
  },
  {
   "cell_type": "code",
   "execution_count": 17,
   "id": "manufactured-radical",
   "metadata": {},
   "outputs": [
    {
     "name": "stdout",
     "output_type": "stream",
     "text": [
      "+--------------------+-----+\n",
      "|          Department|count|\n",
      "+--------------------+-----+\n",
      "|               Sales|  446|\n",
      "|Research & Develo...|  961|\n",
      "|     Human Resources|   63|\n",
      "+--------------------+-----+\n",
      "\n"
     ]
    }
   ],
   "source": [
    "emp_df.groupby('Department').count().show()"
   ]
  },
  {
   "cell_type": "code",
   "execution_count": 21,
   "id": "visible-mediterranean",
   "metadata": {},
   "outputs": [
    {
     "name": "stdout",
     "output_type": "stream",
     "text": [
      "+-----------------+-----+\n",
      "|   BusinessTravel|count|\n",
      "+-----------------+-----+\n",
      "|Travel_Frequently|  277|\n",
      "|       Non-Travel|  150|\n",
      "|    Travel_Rarely| 1043|\n",
      "+-----------------+-----+\n",
      "\n"
     ]
    }
   ],
   "source": [
    "emp_df.groupby('BusinessTravel').count().show()"
   ]
  },
  {
   "cell_type": "code",
   "execution_count": 21,
   "id": "exotic-lodge",
   "metadata": {},
   "outputs": [
    {
     "name": "stdout",
     "output_type": "stream",
     "text": [
      "+------+-----+\n",
      "|Gender|count|\n",
      "+------+-----+\n",
      "|Female|  588|\n",
      "|  Male|  882|\n",
      "+------+-----+\n",
      "\n"
     ]
    }
   ],
   "source": [
    "emp_df.groupby('Gender').count().show()"
   ]
  },
  {
   "cell_type": "code",
   "execution_count": 28,
   "id": "humanitarian-industry",
   "metadata": {
    "collapsed": true
   },
   "outputs": [
    {
     "data": {
      "text/html": [
       "<div>\n",
       "<style scoped>\n",
       "    .dataframe tbody tr th:only-of-type {\n",
       "        vertical-align: middle;\n",
       "    }\n",
       "\n",
       "    .dataframe tbody tr th {\n",
       "        vertical-align: top;\n",
       "    }\n",
       "\n",
       "    .dataframe thead th {\n",
       "        text-align: right;\n",
       "    }\n",
       "</style>\n",
       "<table border=\"1\" class=\"dataframe\">\n",
       "  <thead>\n",
       "    <tr style=\"text-align: right;\">\n",
       "      <th></th>\n",
       "      <th>JobRole</th>\n",
       "      <th>count</th>\n",
       "    </tr>\n",
       "  </thead>\n",
       "  <tbody>\n",
       "    <tr>\n",
       "      <th>0</th>\n",
       "      <td>Sales Executive</td>\n",
       "      <td>326</td>\n",
       "    </tr>\n",
       "    <tr>\n",
       "      <th>1</th>\n",
       "      <td>Manufacturing Director</td>\n",
       "      <td>145</td>\n",
       "    </tr>\n",
       "    <tr>\n",
       "      <th>2</th>\n",
       "      <td>Laboratory Technician</td>\n",
       "      <td>259</td>\n",
       "    </tr>\n",
       "    <tr>\n",
       "      <th>3</th>\n",
       "      <td>Sales Representative</td>\n",
       "      <td>83</td>\n",
       "    </tr>\n",
       "    <tr>\n",
       "      <th>4</th>\n",
       "      <td>Healthcare Representative</td>\n",
       "      <td>131</td>\n",
       "    </tr>\n",
       "    <tr>\n",
       "      <th>5</th>\n",
       "      <td>Research Scientist</td>\n",
       "      <td>292</td>\n",
       "    </tr>\n",
       "    <tr>\n",
       "      <th>6</th>\n",
       "      <td>Manager</td>\n",
       "      <td>102</td>\n",
       "    </tr>\n",
       "    <tr>\n",
       "      <th>7</th>\n",
       "      <td>Research Director</td>\n",
       "      <td>80</td>\n",
       "    </tr>\n",
       "    <tr>\n",
       "      <th>8</th>\n",
       "      <td>Human Resources</td>\n",
       "      <td>52</td>\n",
       "    </tr>\n",
       "  </tbody>\n",
       "</table>\n",
       "</div>"
      ],
      "text/plain": [
       "                     JobRole  count\n",
       "0            Sales Executive    326\n",
       "1     Manufacturing Director    145\n",
       "2      Laboratory Technician    259\n",
       "3       Sales Representative     83\n",
       "4  Healthcare Representative    131\n",
       "5         Research Scientist    292\n",
       "6                    Manager    102\n",
       "7          Research Director     80\n",
       "8            Human Resources     52"
      ]
     },
     "execution_count": 28,
     "metadata": {},
     "output_type": "execute_result"
    }
   ],
   "source": [
    "emp_df.groupby('JobRole').count().toPandas()"
   ]
  },
  {
   "cell_type": "code",
   "execution_count": 29,
   "id": "wired-benchmark",
   "metadata": {},
   "outputs": [
    {
     "data": {
      "text/html": [
       "<div>\n",
       "<style scoped>\n",
       "    .dataframe tbody tr th:only-of-type {\n",
       "        vertical-align: middle;\n",
       "    }\n",
       "\n",
       "    .dataframe tbody tr th {\n",
       "        vertical-align: top;\n",
       "    }\n",
       "\n",
       "    .dataframe thead th {\n",
       "        text-align: right;\n",
       "    }\n",
       "</style>\n",
       "<table border=\"1\" class=\"dataframe\">\n",
       "  <thead>\n",
       "    <tr style=\"text-align: right;\">\n",
       "      <th></th>\n",
       "      <th>MaritalStatus</th>\n",
       "      <th>count</th>\n",
       "    </tr>\n",
       "  </thead>\n",
       "  <tbody>\n",
       "    <tr>\n",
       "      <th>0</th>\n",
       "      <td>Married</td>\n",
       "      <td>673</td>\n",
       "    </tr>\n",
       "    <tr>\n",
       "      <th>1</th>\n",
       "      <td>Divorced</td>\n",
       "      <td>327</td>\n",
       "    </tr>\n",
       "    <tr>\n",
       "      <th>2</th>\n",
       "      <td>Single</td>\n",
       "      <td>470</td>\n",
       "    </tr>\n",
       "  </tbody>\n",
       "</table>\n",
       "</div>"
      ],
      "text/plain": [
       "  MaritalStatus  count\n",
       "0       Married    673\n",
       "1      Divorced    327\n",
       "2        Single    470"
      ]
     },
     "execution_count": 29,
     "metadata": {},
     "output_type": "execute_result"
    }
   ],
   "source": [
    "emp_df.groupby('MaritalStatus').count().toPandas()"
   ]
  },
  {
   "cell_type": "code",
   "execution_count": 26,
   "id": "forbidden-stack",
   "metadata": {},
   "outputs": [
    {
     "name": "stdout",
     "output_type": "stream",
     "text": [
      "+------+-----+\n",
      "|Over18|count|\n",
      "+------+-----+\n",
      "|     Y| 1470|\n",
      "+------+-----+\n",
      "\n"
     ]
    }
   ],
   "source": [
    "emp_df.groupby('Over18').count().show()"
   ]
  },
  {
   "cell_type": "code",
   "execution_count": 27,
   "id": "alpine-globe",
   "metadata": {},
   "outputs": [
    {
     "name": "stdout",
     "output_type": "stream",
     "text": [
      "+---------+-----+\n",
      "|Attrition|count|\n",
      "+---------+-----+\n",
      "|       No| 1233|\n",
      "|      Yes|  237|\n",
      "+---------+-----+\n",
      "\n"
     ]
    }
   ],
   "source": [
    "emp_df.groupby('Attrition').count().show()"
   ]
  },
  {
   "cell_type": "code",
   "execution_count": 30,
   "id": "ahead-invite",
   "metadata": {},
   "outputs": [
    {
     "name": "stdout",
     "output_type": "stream",
     "text": [
      "+--------+-----+\n",
      "|OverTime|count|\n",
      "+--------+-----+\n",
      "|      No| 1054|\n",
      "|     Yes|  416|\n",
      "+--------+-----+\n",
      "\n"
     ]
    }
   ],
   "source": [
    "emp_df.groupby('OverTime').count().show()"
   ]
  },
  {
   "cell_type": "markdown",
   "id": "handy-chain",
   "metadata": {},
   "source": [
    "### Data Preprocessing"
   ]
  },
  {
   "cell_type": "markdown",
   "id": "representative-calcium",
   "metadata": {},
   "source": [
    "Label encoding"
   ]
  },
  {
   "cell_type": "markdown",
   "id": "assisted-therapy",
   "metadata": {},
   "source": [
    "Attrition (0, 1)"
   ]
  },
  {
   "cell_type": "code",
   "execution_count": 153,
   "id": "nutritional-pencil",
   "metadata": {},
   "outputs": [],
   "source": [
    "emp_df = emp_df.withColumn(\"Attrition\", when(emp_df.Attrition == 'Yes', 1).otherwise(0))"
   ]
  },
  {
   "cell_type": "markdown",
   "id": "sustainable-boring",
   "metadata": {},
   "source": [
    "Department"
   ]
  },
  {
   "cell_type": "code",
   "execution_count": 154,
   "id": "obvious-pension",
   "metadata": {},
   "outputs": [],
   "source": [
    "emp_df = emp_df.withColumn(\"Department\", when(emp_df.Department == 'Sales', 0). \n",
    "                                         when(emp_df.Department == 'Research & Development', 1).otherwise(2))"
   ]
  },
  {
   "cell_type": "markdown",
   "id": "champion-spank",
   "metadata": {},
   "source": [
    "BusinessTravel"
   ]
  },
  {
   "cell_type": "code",
   "execution_count": 155,
   "id": "interracial-volume",
   "metadata": {},
   "outputs": [],
   "source": [
    "emp_df = emp_df.withColumn(\"BusinessTravel\", when(emp_df.BusinessTravel == 'Travel_Frequently', 0). \n",
    "                                             when(emp_df.BusinessTravel == 'Non-Travel', 1).otherwise(2))"
   ]
  },
  {
   "cell_type": "markdown",
   "id": "combined-grocery",
   "metadata": {},
   "source": [
    "EducationField"
   ]
  },
  {
   "cell_type": "code",
   "execution_count": 156,
   "id": "elder-bridal",
   "metadata": {},
   "outputs": [],
   "source": [
    "emp_df = emp_df.withColumn(\"EducationField\", when(emp_df.EducationField == 'Other', 0). \n",
    "                                             when(emp_df.EducationField == 'Technical Degree', 1).\n",
    "                                             when(emp_df.EducationField == 'Marketing', 2).\n",
    "                                             when(emp_df.EducationField == 'Medical', 3).\n",
    "                                             when(emp_df.EducationField == 'Life Sciences', 4).otherwise(5))"
   ]
  },
  {
   "cell_type": "markdown",
   "id": "accurate-worker",
   "metadata": {},
   "source": [
    "Gender"
   ]
  },
  {
   "cell_type": "code",
   "execution_count": 157,
   "id": "robust-stuart",
   "metadata": {},
   "outputs": [],
   "source": [
    "emp_df = emp_df.withColumn(\"Gender\", when(emp_df.Gender =='Female', 0).otherwise(1))"
   ]
  },
  {
   "cell_type": "markdown",
   "id": "needed-sydney",
   "metadata": {},
   "source": [
    "JobRole"
   ]
  },
  {
   "cell_type": "code",
   "execution_count": 158,
   "id": "familiar-infrastructure",
   "metadata": {},
   "outputs": [],
   "source": [
    "emp_df = emp_df.withColumn(\"JobRole\", when(emp_df.JobRole == 'Sales Executive', 0). \n",
    "                                             when(emp_df.JobRole == 'Manufacturing Director', 1).\n",
    "                                             when(emp_df.JobRole == 'Laboratory Technician', 2).\n",
    "                                             when(emp_df.JobRole == 'Sales Representative', 3).\n",
    "                                             when(emp_df.JobRole == 'Healthcare Representative', 4).\n",
    "                                             when(emp_df.JobRole == 'Research Scientist', 5).\n",
    "                                             when(emp_df.JobRole == 'Manager', 6).\n",
    "                                             when(emp_df.JobRole == 'Research Director', 7).otherwise(8))"
   ]
  },
  {
   "cell_type": "markdown",
   "id": "fancy-mountain",
   "metadata": {},
   "source": [
    "MaritalStatus"
   ]
  },
  {
   "cell_type": "code",
   "execution_count": 159,
   "id": "brave-round",
   "metadata": {},
   "outputs": [],
   "source": [
    "emp_df = emp_df.withColumn(\"MaritalStatus\", when(emp_df.MaritalStatus == 'Married', 0). \n",
    "                                            when(emp_df.MaritalStatus == 'Divorced', 1).otherwise(2))"
   ]
  },
  {
   "cell_type": "markdown",
   "id": "separated-rochester",
   "metadata": {},
   "source": [
    "OverTime"
   ]
  },
  {
   "cell_type": "code",
   "execution_count": 160,
   "id": "checked-brass",
   "metadata": {},
   "outputs": [],
   "source": [
    "emp_df = emp_df.withColumn(\"OverTime\", when(emp_df.OverTime == 'No', 0).otherwise(1))"
   ]
  },
  {
   "cell_type": "markdown",
   "id": "reported-breeding",
   "metadata": {},
   "source": [
    "Over18, EmployeeCount need to be dropped since they have single value for the whole dataset"
   ]
  },
  {
   "cell_type": "code",
   "execution_count": 233,
   "id": "stainless-mouse",
   "metadata": {},
   "outputs": [],
   "source": [
    "emp_df = emp_df.drop('Over18')\n",
    "emp_df = emp_df.drop('EmployeeCount')"
   ]
  },
  {
   "cell_type": "markdown",
   "id": "supposed-listing",
   "metadata": {},
   "source": [
    "Employee number not relevant for the Analysis"
   ]
  },
  {
   "cell_type": "code",
   "execution_count": 234,
   "id": "greek-universal",
   "metadata": {},
   "outputs": [],
   "source": [
    "emp_df = emp_df.drop('EmployeeNumber')\n",
    "emp_df = emp_df.drop('StandardHours')"
   ]
  },
  {
   "cell_type": "code",
   "execution_count": 235,
   "id": "practical-yield",
   "metadata": {},
   "outputs": [
    {
     "name": "stdout",
     "output_type": "stream",
     "text": [
      "+---------+----------+--------------+--------------+------+-------+-------------+--------+\n",
      "|Attrition|Department|BusinessTravel|EducationField|Gender|JobRole|MaritalStatus|OverTime|\n",
      "+---------+----------+--------------+--------------+------+-------+-------------+--------+\n",
      "|        1|         0|             2|             4|     0|      0|            2|       1|\n",
      "|        0|         1|             0|             4|     1|      5|            0|       0|\n",
      "|        1|         1|             2|             0|     1|      2|            2|       1|\n",
      "|        0|         1|             0|             4|     0|      5|            0|       1|\n",
      "|        0|         1|             2|             3|     1|      2|            0|       0|\n",
      "|        0|         1|             0|             4|     1|      2|            2|       0|\n",
      "|        0|         1|             2|             3|     0|      2|            0|       1|\n",
      "|        0|         1|             2|             4|     1|      2|            1|       0|\n",
      "|        0|         1|             0|             4|     1|      1|            2|       0|\n",
      "|        0|         1|             2|             3|     1|      4|            0|       0|\n",
      "|        0|         1|             2|             3|     1|      2|            0|       0|\n",
      "|        0|         1|             2|             4|     0|      2|            2|       1|\n",
      "|        0|         1|             2|             4|     1|      5|            1|       0|\n",
      "|        0|         1|             2|             3|     1|      2|            1|       0|\n",
      "|        1|         1|             2|             4|     1|      2|            2|       1|\n",
      "|        0|         1|             2|             4|     0|      1|            1|       0|\n",
      "|        0|         1|             2|             4|     1|      5|            1|       1|\n",
      "|        0|         1|             1|             3|     1|      2|            1|       1|\n",
      "|        0|         0|             2|             4|     0|      6|            0|       0|\n",
      "|        0|         1|             2|             4|     1|      5|            2|       1|\n",
      "+---------+----------+--------------+--------------+------+-------+-------------+--------+\n",
      "only showing top 20 rows\n",
      "\n"
     ]
    }
   ],
   "source": [
    "emp_df.select('Attrition', 'Department', 'BusinessTravel', 'EducationField', 'Gender', 'JobRole', 'MaritalStatus', 'OverTime').show()"
   ]
  },
  {
   "cell_type": "code",
   "execution_count": 163,
   "id": "monetary-motorcycle",
   "metadata": {
    "collapsed": true
   },
   "outputs": [
    {
     "name": "stdout",
     "output_type": "stream",
     "text": [
      "root\n",
      " |-- Age: integer (nullable = true)\n",
      " |-- Attrition: integer (nullable = false)\n",
      " |-- BusinessTravel: integer (nullable = false)\n",
      " |-- DailyRate: integer (nullable = true)\n",
      " |-- Department: integer (nullable = false)\n",
      " |-- DistanceFromHome: integer (nullable = true)\n",
      " |-- Education: integer (nullable = true)\n",
      " |-- EducationField: integer (nullable = false)\n",
      " |-- EnvironmentSatisfaction: integer (nullable = true)\n",
      " |-- Gender: integer (nullable = false)\n",
      " |-- HourlyRate: integer (nullable = true)\n",
      " |-- JobInvolvement: integer (nullable = true)\n",
      " |-- JobLevel: integer (nullable = true)\n",
      " |-- JobRole: integer (nullable = false)\n",
      " |-- JobSatisfaction: integer (nullable = true)\n",
      " |-- MaritalStatus: integer (nullable = false)\n",
      " |-- MonthlyIncome: integer (nullable = true)\n",
      " |-- MonthlyRate: integer (nullable = true)\n",
      " |-- NumCompaniesWorked: integer (nullable = true)\n",
      " |-- OverTime: integer (nullable = false)\n",
      " |-- PercentSalaryHike: integer (nullable = true)\n",
      " |-- PerformanceRating: integer (nullable = true)\n",
      " |-- RelationshipSatisfaction: integer (nullable = true)\n",
      " |-- StockOptionLevel: integer (nullable = true)\n",
      " |-- TotalWorkingYears: integer (nullable = true)\n",
      " |-- TrainingTimesLastYear: integer (nullable = true)\n",
      " |-- WorkLifeBalance: integer (nullable = true)\n",
      " |-- YearsAtCompany: integer (nullable = true)\n",
      " |-- YearsInCurrentRole: integer (nullable = true)\n",
      " |-- YearsSinceLastPromotion: integer (nullable = true)\n",
      " |-- YearsWithCurrManager: integer (nullable = true)\n",
      "\n"
     ]
    }
   ],
   "source": [
    "emp_df.printSchema()"
   ]
  },
  {
   "cell_type": "markdown",
   "id": "rising-desktop",
   "metadata": {},
   "source": [
    "### Features Selection"
   ]
  },
  {
   "cell_type": "markdown",
   "id": "elect-marshall",
   "metadata": {},
   "source": [
    "Hypothesys testing"
   ]
  },
  {
   "cell_type": "markdown",
   "id": "empirical-acrobat",
   "metadata": {},
   "source": [
    "2 Sampled T-Test\n",
    "\n",
    "H0:There is a significant relationship between Attrition and MaritalStatus\n",
    "Ha: There is no significant relationship between the two attributes\n",
    "\n",
    "Alpha = 0.05"
   ]
  },
  {
   "cell_type": "code",
   "execution_count": 243,
   "id": "consecutive-original",
   "metadata": {},
   "outputs": [],
   "source": [
    "from scipy import stats"
   ]
  },
  {
   "cell_type": "code",
   "execution_count": 236,
   "id": "duplicate-street",
   "metadata": {},
   "outputs": [],
   "source": [
    "df = emp_df.toPandas()"
   ]
  },
  {
   "cell_type": "code",
   "execution_count": 238,
   "id": "recovered-meter",
   "metadata": {},
   "outputs": [],
   "source": [
    "married_df = df[df['MaritalStatus']==0]\n",
    "divorced_df = df[df['MaritalStatus']==1]\n",
    "single_df = df[df['MaritalStatus']==2]"
   ]
  },
  {
   "cell_type": "code",
   "execution_count": 239,
   "id": "naughty-shark",
   "metadata": {},
   "outputs": [
    {
     "data": {
      "text/plain": [
       "(673, 29)"
      ]
     },
     "execution_count": 239,
     "metadata": {},
     "output_type": "execute_result"
    }
   ],
   "source": [
    "married_df.shape"
   ]
  },
  {
   "cell_type": "code",
   "execution_count": 240,
   "id": "assumed-algeria",
   "metadata": {},
   "outputs": [
    {
     "data": {
      "text/plain": [
       "(327, 29)"
      ]
     },
     "execution_count": 240,
     "metadata": {},
     "output_type": "execute_result"
    }
   ],
   "source": [
    "divorced_df.shape"
   ]
  },
  {
   "cell_type": "code",
   "execution_count": 242,
   "id": "center-symphony",
   "metadata": {},
   "outputs": [
    {
     "data": {
      "text/plain": [
       "(470, 29)"
      ]
     },
     "execution_count": 242,
     "metadata": {},
     "output_type": "execute_result"
    }
   ],
   "source": [
    "single_df.shape"
   ]
  },
  {
   "cell_type": "markdown",
   "id": "powerful-semester",
   "metadata": {},
   "source": [
    "Make equal number of records "
   ]
  },
  {
   "cell_type": "code",
   "execution_count": 245,
   "id": "unauthorized-version",
   "metadata": {},
   "outputs": [],
   "source": [
    "married_df = married_df.sample(len(divorced_df))"
   ]
  },
  {
   "cell_type": "markdown",
   "id": "proud-apparel",
   "metadata": {},
   "source": [
    "Perform two Independent Sample T-Test"
   ]
  },
  {
   "cell_type": "code",
   "execution_count": 247,
   "id": "hydraulic-handy",
   "metadata": {},
   "outputs": [],
   "source": [
    "statistics , p_value = stats.ttest_ind(divorced_df['Attrition'], married_df['Attrition'])"
   ]
  },
  {
   "cell_type": "code",
   "execution_count": 249,
   "id": "hydraulic-glossary",
   "metadata": {},
   "outputs": [
    {
     "data": {
      "text/plain": [
       "0.4542809283221759"
      ]
     },
     "execution_count": 249,
     "metadata": {},
     "output_type": "execute_result"
    }
   ],
   "source": [
    "p_value"
   ]
  },
  {
   "cell_type": "code",
   "execution_count": 250,
   "id": "compliant-chemistry",
   "metadata": {},
   "outputs": [
    {
     "name": "stdout",
     "output_type": "stream",
     "text": [
      "We fail to reject the Null Hypothesis\n"
     ]
    }
   ],
   "source": [
    "if p_value <= 0.05:\n",
    "    print(\"We are rejecting Null Hypothesis\")\n",
    "else: \n",
    "    print(\"We fail to reject the Null Hypothesis\")"
   ]
  },
  {
   "cell_type": "markdown",
   "id": "tough-cover",
   "metadata": {},
   "source": [
    "Let's check for any eventual relationship between Attrition and JobSatifaction"
   ]
  },
  {
   "cell_type": "markdown",
   "id": "juvenile-theater",
   "metadata": {},
   "source": [
    "H0:There is a significant relationship between Attrition and JobSatifaction\n",
    "Ha: There is no significant relationship between the two attributes\n"
   ]
  },
  {
   "cell_type": "code",
   "execution_count": 254,
   "id": "critical-american",
   "metadata": {},
   "outputs": [],
   "source": [
    "not_satisfied = df[df['JobSatisfaction']==1]\n",
    "very_satisfied = df[df['JobSatisfaction']==4]"
   ]
  },
  {
   "cell_type": "code",
   "execution_count": 255,
   "id": "generous-breakdown",
   "metadata": {},
   "outputs": [
    {
     "data": {
      "text/plain": [
       "(289, 29)"
      ]
     },
     "execution_count": 255,
     "metadata": {},
     "output_type": "execute_result"
    }
   ],
   "source": [
    "not_satisfied.shape"
   ]
  },
  {
   "cell_type": "code",
   "execution_count": 256,
   "id": "massive-karaoke",
   "metadata": {},
   "outputs": [
    {
     "data": {
      "text/plain": [
       "(459, 29)"
      ]
     },
     "execution_count": 256,
     "metadata": {},
     "output_type": "execute_result"
    }
   ],
   "source": [
    "very_satisfied.shape"
   ]
  },
  {
   "cell_type": "markdown",
   "id": "fixed-heritage",
   "metadata": {},
   "source": [
    "Make equal number of records for both samples"
   ]
  },
  {
   "cell_type": "code",
   "execution_count": 258,
   "id": "enclosed-stocks",
   "metadata": {},
   "outputs": [],
   "source": [
    "very_satisfied = very_satisfied.sample(len(not_satisfied))"
   ]
  },
  {
   "cell_type": "markdown",
   "id": "steady-carolina",
   "metadata": {},
   "source": [
    "Perform the test"
   ]
  },
  {
   "cell_type": "code",
   "execution_count": 259,
   "id": "suited-sessions",
   "metadata": {},
   "outputs": [],
   "source": [
    "statistics , p_value = stats.ttest_ind(not_satisfied['Attrition'], very_satisfied['Attrition'])"
   ]
  },
  {
   "cell_type": "code",
   "execution_count": 260,
   "id": "cordless-regard",
   "metadata": {},
   "outputs": [
    {
     "data": {
      "text/plain": [
       "0.0015836754803868302"
      ]
     },
     "execution_count": 260,
     "metadata": {},
     "output_type": "execute_result"
    }
   ],
   "source": [
    "p_value"
   ]
  },
  {
   "cell_type": "code",
   "execution_count": 261,
   "id": "instrumental-folder",
   "metadata": {},
   "outputs": [
    {
     "name": "stdout",
     "output_type": "stream",
     "text": [
      "We are rejecting Null Hypothesis\n"
     ]
    }
   ],
   "source": [
    "if p_value <= 0.05:\n",
    "    print(\"We are rejecting Null Hypothesis\")\n",
    "else: \n",
    "    print(\"We fail to reject the Null Hypothesis\")"
   ]
  },
  {
   "cell_type": "markdown",
   "id": "thorough-channel",
   "metadata": {},
   "source": [
    "#### Correlation"
   ]
  },
  {
   "cell_type": "code",
   "execution_count": 164,
   "id": "surrounded-portuguese",
   "metadata": {},
   "outputs": [],
   "source": [
    "import pandas as pd\n",
    "from pyspark.mllib.stat import Statistics\n",
    "\n",
    "def compute_corr_matrix(df, method = 'pearson'):\n",
    "    df_rdd = df.rdd.map( lambda r: r[0:] )\n",
    "    corr_mat = Statistics.corr(df_rdd, method=method)\n",
    "    corr_mat_df = pd.DataFrame(corr_mat, columns=df.columns, index=df.columns)\n",
    "    return(corr_mat_df)"
   ]
  },
  {
   "cell_type": "code",
   "execution_count": 165,
   "id": "czech-drunk",
   "metadata": {
    "scrolled": true
   },
   "outputs": [
    {
     "data": {
      "text/html": [
       "<div>\n",
       "<style scoped>\n",
       "    .dataframe tbody tr th:only-of-type {\n",
       "        vertical-align: middle;\n",
       "    }\n",
       "\n",
       "    .dataframe tbody tr th {\n",
       "        vertical-align: top;\n",
       "    }\n",
       "\n",
       "    .dataframe thead th {\n",
       "        text-align: right;\n",
       "    }\n",
       "</style>\n",
       "<table border=\"1\" class=\"dataframe\">\n",
       "  <thead>\n",
       "    <tr style=\"text-align: right;\">\n",
       "      <th></th>\n",
       "      <th>Age</th>\n",
       "      <th>Attrition</th>\n",
       "      <th>BusinessTravel</th>\n",
       "      <th>DailyRate</th>\n",
       "      <th>Department</th>\n",
       "      <th>DistanceFromHome</th>\n",
       "      <th>Education</th>\n",
       "      <th>EducationField</th>\n",
       "      <th>EnvironmentSatisfaction</th>\n",
       "      <th>Gender</th>\n",
       "      <th>...</th>\n",
       "      <th>PerformanceRating</th>\n",
       "      <th>RelationshipSatisfaction</th>\n",
       "      <th>StockOptionLevel</th>\n",
       "      <th>TotalWorkingYears</th>\n",
       "      <th>TrainingTimesLastYear</th>\n",
       "      <th>WorkLifeBalance</th>\n",
       "      <th>YearsAtCompany</th>\n",
       "      <th>YearsInCurrentRole</th>\n",
       "      <th>YearsSinceLastPromotion</th>\n",
       "      <th>YearsWithCurrManager</th>\n",
       "    </tr>\n",
       "  </thead>\n",
       "  <tbody>\n",
       "    <tr>\n",
       "      <th>Age</th>\n",
       "      <td>1.000000</td>\n",
       "      <td>-0.159205</td>\n",
       "      <td>0.028740</td>\n",
       "      <td>0.010661</td>\n",
       "      <td>0.031882</td>\n",
       "      <td>-0.001686</td>\n",
       "      <td>0.208034</td>\n",
       "      <td>0.034169</td>\n",
       "      <td>0.010146</td>\n",
       "      <td>-0.036311</td>\n",
       "      <td>...</td>\n",
       "      <td>0.001904</td>\n",
       "      <td>0.053535</td>\n",
       "      <td>0.037510</td>\n",
       "      <td>0.680381</td>\n",
       "      <td>-0.019621</td>\n",
       "      <td>-0.021490</td>\n",
       "      <td>0.311309</td>\n",
       "      <td>0.212901</td>\n",
       "      <td>0.216513</td>\n",
       "      <td>0.202089</td>\n",
       "    </tr>\n",
       "    <tr>\n",
       "      <th>Attrition</th>\n",
       "      <td>-0.159205</td>\n",
       "      <td>1.000000</td>\n",
       "      <td>-0.085306</td>\n",
       "      <td>-0.056652</td>\n",
       "      <td>-0.063991</td>\n",
       "      <td>0.077924</td>\n",
       "      <td>-0.031373</td>\n",
       "      <td>-0.042248</td>\n",
       "      <td>-0.103369</td>\n",
       "      <td>0.029453</td>\n",
       "      <td>...</td>\n",
       "      <td>0.002889</td>\n",
       "      <td>-0.045872</td>\n",
       "      <td>-0.137145</td>\n",
       "      <td>-0.171063</td>\n",
       "      <td>-0.059478</td>\n",
       "      <td>-0.063939</td>\n",
       "      <td>-0.134392</td>\n",
       "      <td>-0.160545</td>\n",
       "      <td>-0.033019</td>\n",
       "      <td>-0.156199</td>\n",
       "    </tr>\n",
       "    <tr>\n",
       "      <th>BusinessTravel</th>\n",
       "      <td>0.028740</td>\n",
       "      <td>-0.085306</td>\n",
       "      <td>1.000000</td>\n",
       "      <td>0.007010</td>\n",
       "      <td>0.005827</td>\n",
       "      <td>-0.014049</td>\n",
       "      <td>0.006464</td>\n",
       "      <td>-0.044398</td>\n",
       "      <td>0.011111</td>\n",
       "      <td>0.002456</td>\n",
       "      <td>...</td>\n",
       "      <td>-0.023271</td>\n",
       "      <td>-0.036246</td>\n",
       "      <td>0.004934</td>\n",
       "      <td>0.023408</td>\n",
       "      <td>0.001815</td>\n",
       "      <td>-0.012289</td>\n",
       "      <td>-0.015754</td>\n",
       "      <td>-0.006077</td>\n",
       "      <td>-0.030903</td>\n",
       "      <td>-0.018872</td>\n",
       "    </tr>\n",
       "    <tr>\n",
       "      <th>DailyRate</th>\n",
       "      <td>0.010661</td>\n",
       "      <td>-0.056652</td>\n",
       "      <td>0.007010</td>\n",
       "      <td>1.000000</td>\n",
       "      <td>-0.007109</td>\n",
       "      <td>-0.004985</td>\n",
       "      <td>-0.016806</td>\n",
       "      <td>-0.003777</td>\n",
       "      <td>0.018355</td>\n",
       "      <td>-0.011716</td>\n",
       "      <td>...</td>\n",
       "      <td>0.000473</td>\n",
       "      <td>0.007846</td>\n",
       "      <td>0.042143</td>\n",
       "      <td>0.014515</td>\n",
       "      <td>0.002453</td>\n",
       "      <td>-0.037848</td>\n",
       "      <td>-0.034055</td>\n",
       "      <td>0.009932</td>\n",
       "      <td>-0.033229</td>\n",
       "      <td>-0.026363</td>\n",
       "    </tr>\n",
       "    <tr>\n",
       "      <th>Department</th>\n",
       "      <td>0.031882</td>\n",
       "      <td>-0.063991</td>\n",
       "      <td>0.005827</td>\n",
       "      <td>-0.007109</td>\n",
       "      <td>1.000000</td>\n",
       "      <td>-0.017225</td>\n",
       "      <td>-0.007996</td>\n",
       "      <td>0.184546</td>\n",
       "      <td>0.019395</td>\n",
       "      <td>0.041583</td>\n",
       "      <td>...</td>\n",
       "      <td>0.024604</td>\n",
       "      <td>0.022414</td>\n",
       "      <td>0.012193</td>\n",
       "      <td>0.015762</td>\n",
       "      <td>-0.036875</td>\n",
       "      <td>-0.026383</td>\n",
       "      <td>-0.022920</td>\n",
       "      <td>-0.056315</td>\n",
       "      <td>-0.040061</td>\n",
       "      <td>-0.034282</td>\n",
       "    </tr>\n",
       "    <tr>\n",
       "      <th>DistanceFromHome</th>\n",
       "      <td>-0.001686</td>\n",
       "      <td>0.077924</td>\n",
       "      <td>-0.014049</td>\n",
       "      <td>-0.004985</td>\n",
       "      <td>-0.017225</td>\n",
       "      <td>1.000000</td>\n",
       "      <td>0.021042</td>\n",
       "      <td>-0.009135</td>\n",
       "      <td>-0.016075</td>\n",
       "      <td>-0.001851</td>\n",
       "      <td>...</td>\n",
       "      <td>0.027110</td>\n",
       "      <td>0.006557</td>\n",
       "      <td>0.044872</td>\n",
       "      <td>0.004628</td>\n",
       "      <td>-0.036942</td>\n",
       "      <td>-0.026556</td>\n",
       "      <td>0.009508</td>\n",
       "      <td>0.018845</td>\n",
       "      <td>0.010029</td>\n",
       "      <td>0.014406</td>\n",
       "    </tr>\n",
       "    <tr>\n",
       "      <th>Education</th>\n",
       "      <td>0.208034</td>\n",
       "      <td>-0.031373</td>\n",
       "      <td>0.006464</td>\n",
       "      <td>-0.016806</td>\n",
       "      <td>-0.007996</td>\n",
       "      <td>0.021042</td>\n",
       "      <td>1.000000</td>\n",
       "      <td>-0.016406</td>\n",
       "      <td>-0.027128</td>\n",
       "      <td>-0.016547</td>\n",
       "      <td>...</td>\n",
       "      <td>-0.024539</td>\n",
       "      <td>-0.009118</td>\n",
       "      <td>0.018422</td>\n",
       "      <td>0.148280</td>\n",
       "      <td>-0.025100</td>\n",
       "      <td>0.009819</td>\n",
       "      <td>0.069114</td>\n",
       "      <td>0.060236</td>\n",
       "      <td>0.054254</td>\n",
       "      <td>0.069065</td>\n",
       "    </tr>\n",
       "    <tr>\n",
       "      <th>EducationField</th>\n",
       "      <td>0.034169</td>\n",
       "      <td>-0.042248</td>\n",
       "      <td>-0.044398</td>\n",
       "      <td>-0.003777</td>\n",
       "      <td>0.184546</td>\n",
       "      <td>-0.009135</td>\n",
       "      <td>-0.016406</td>\n",
       "      <td>1.000000</td>\n",
       "      <td>-0.061676</td>\n",
       "      <td>0.000460</td>\n",
       "      <td>...</td>\n",
       "      <td>0.009981</td>\n",
       "      <td>0.019520</td>\n",
       "      <td>0.027241</td>\n",
       "      <td>0.029329</td>\n",
       "      <td>-0.016105</td>\n",
       "      <td>-0.050426</td>\n",
       "      <td>0.017410</td>\n",
       "      <td>0.000477</td>\n",
       "      <td>0.013076</td>\n",
       "      <td>-0.006465</td>\n",
       "    </tr>\n",
       "    <tr>\n",
       "      <th>EnvironmentSatisfaction</th>\n",
       "      <td>0.010146</td>\n",
       "      <td>-0.103369</td>\n",
       "      <td>0.011111</td>\n",
       "      <td>0.018355</td>\n",
       "      <td>0.019395</td>\n",
       "      <td>-0.016075</td>\n",
       "      <td>-0.027128</td>\n",
       "      <td>-0.061676</td>\n",
       "      <td>1.000000</td>\n",
       "      <td>0.000508</td>\n",
       "      <td>...</td>\n",
       "      <td>-0.029548</td>\n",
       "      <td>0.007665</td>\n",
       "      <td>0.003432</td>\n",
       "      <td>-0.002693</td>\n",
       "      <td>-0.019359</td>\n",
       "      <td>0.027627</td>\n",
       "      <td>0.001458</td>\n",
       "      <td>0.018007</td>\n",
       "      <td>0.016194</td>\n",
       "      <td>-0.004999</td>\n",
       "    </tr>\n",
       "    <tr>\n",
       "      <th>Gender</th>\n",
       "      <td>-0.036311</td>\n",
       "      <td>0.029453</td>\n",
       "      <td>0.002456</td>\n",
       "      <td>-0.011716</td>\n",
       "      <td>0.041583</td>\n",
       "      <td>-0.001851</td>\n",
       "      <td>-0.016547</td>\n",
       "      <td>0.000460</td>\n",
       "      <td>0.000508</td>\n",
       "      <td>1.000000</td>\n",
       "      <td>...</td>\n",
       "      <td>-0.013859</td>\n",
       "      <td>0.022868</td>\n",
       "      <td>0.012716</td>\n",
       "      <td>-0.046881</td>\n",
       "      <td>-0.038787</td>\n",
       "      <td>-0.002753</td>\n",
       "      <td>-0.029747</td>\n",
       "      <td>-0.041483</td>\n",
       "      <td>-0.026985</td>\n",
       "      <td>-0.030599</td>\n",
       "    </tr>\n",
       "    <tr>\n",
       "      <th>HourlyRate</th>\n",
       "      <td>0.024287</td>\n",
       "      <td>-0.006846</td>\n",
       "      <td>0.025096</td>\n",
       "      <td>0.023381</td>\n",
       "      <td>0.004144</td>\n",
       "      <td>0.031131</td>\n",
       "      <td>0.016775</td>\n",
       "      <td>0.025891</td>\n",
       "      <td>-0.049857</td>\n",
       "      <td>-0.000478</td>\n",
       "      <td>...</td>\n",
       "      <td>-0.002172</td>\n",
       "      <td>0.001330</td>\n",
       "      <td>0.050263</td>\n",
       "      <td>-0.002334</td>\n",
       "      <td>-0.008548</td>\n",
       "      <td>-0.004607</td>\n",
       "      <td>-0.019582</td>\n",
       "      <td>-0.024106</td>\n",
       "      <td>-0.026716</td>\n",
       "      <td>-0.020123</td>\n",
       "    </tr>\n",
       "    <tr>\n",
       "      <th>JobInvolvement</th>\n",
       "      <td>0.029820</td>\n",
       "      <td>-0.130016</td>\n",
       "      <td>0.013137</td>\n",
       "      <td>0.046135</td>\n",
       "      <td>0.024586</td>\n",
       "      <td>0.008783</td>\n",
       "      <td>0.042438</td>\n",
       "      <td>0.015515</td>\n",
       "      <td>-0.008278</td>\n",
       "      <td>0.017960</td>\n",
       "      <td>...</td>\n",
       "      <td>-0.029071</td>\n",
       "      <td>0.034297</td>\n",
       "      <td>0.021523</td>\n",
       "      <td>-0.005533</td>\n",
       "      <td>-0.015338</td>\n",
       "      <td>-0.014617</td>\n",
       "      <td>-0.021355</td>\n",
       "      <td>0.008717</td>\n",
       "      <td>-0.024184</td>\n",
       "      <td>0.025976</td>\n",
       "    </tr>\n",
       "    <tr>\n",
       "      <th>JobLevel</th>\n",
       "      <td>0.509604</td>\n",
       "      <td>-0.169105</td>\n",
       "      <td>0.024092</td>\n",
       "      <td>0.002966</td>\n",
       "      <td>-0.101963</td>\n",
       "      <td>0.005303</td>\n",
       "      <td>0.101589</td>\n",
       "      <td>0.010486</td>\n",
       "      <td>0.001212</td>\n",
       "      <td>-0.039403</td>\n",
       "      <td>...</td>\n",
       "      <td>-0.021222</td>\n",
       "      <td>0.021642</td>\n",
       "      <td>0.013984</td>\n",
       "      <td>0.782208</td>\n",
       "      <td>-0.018191</td>\n",
       "      <td>0.037818</td>\n",
       "      <td>0.534739</td>\n",
       "      <td>0.389447</td>\n",
       "      <td>0.353885</td>\n",
       "      <td>0.375281</td>\n",
       "    </tr>\n",
       "    <tr>\n",
       "      <th>JobRole</th>\n",
       "      <td>0.125951</td>\n",
       "      <td>-0.060486</td>\n",
       "      <td>0.030421</td>\n",
       "      <td>-0.005772</td>\n",
       "      <td>0.629864</td>\n",
       "      <td>-0.051681</td>\n",
       "      <td>0.012508</td>\n",
       "      <td>0.120419</td>\n",
       "      <td>-0.022801</td>\n",
       "      <td>0.013000</td>\n",
       "      <td>...</td>\n",
       "      <td>0.011425</td>\n",
       "      <td>0.024585</td>\n",
       "      <td>-0.017120</td>\n",
       "      <td>0.197502</td>\n",
       "      <td>-0.045075</td>\n",
       "      <td>-0.003723</td>\n",
       "      <td>0.093378</td>\n",
       "      <td>0.001325</td>\n",
       "      <td>0.045849</td>\n",
       "      <td>-0.000483</td>\n",
       "    </tr>\n",
       "    <tr>\n",
       "      <th>JobSatisfaction</th>\n",
       "      <td>-0.004892</td>\n",
       "      <td>-0.103481</td>\n",
       "      <td>-0.034370</td>\n",
       "      <td>0.030571</td>\n",
       "      <td>-0.021001</td>\n",
       "      <td>-0.003669</td>\n",
       "      <td>-0.011296</td>\n",
       "      <td>0.029954</td>\n",
       "      <td>-0.006784</td>\n",
       "      <td>0.033252</td>\n",
       "      <td>...</td>\n",
       "      <td>0.002297</td>\n",
       "      <td>-0.012454</td>\n",
       "      <td>0.010690</td>\n",
       "      <td>-0.020185</td>\n",
       "      <td>-0.005779</td>\n",
       "      <td>-0.019459</td>\n",
       "      <td>-0.003803</td>\n",
       "      <td>-0.002305</td>\n",
       "      <td>-0.018214</td>\n",
       "      <td>-0.027656</td>\n",
       "    </tr>\n",
       "    <tr>\n",
       "      <th>MaritalStatus</th>\n",
       "      <td>-0.111831</td>\n",
       "      <td>0.145985</td>\n",
       "      <td>-0.040679</td>\n",
       "      <td>-0.063512</td>\n",
       "      <td>-0.030927</td>\n",
       "      <td>-0.031992</td>\n",
       "      <td>0.003299</td>\n",
       "      <td>-0.009870</td>\n",
       "      <td>0.017527</td>\n",
       "      <td>-0.013074</td>\n",
       "      <td>...</td>\n",
       "      <td>-0.006043</td>\n",
       "      <td>0.046675</td>\n",
       "      <td>-0.471205</td>\n",
       "      <td>-0.078555</td>\n",
       "      <td>0.029856</td>\n",
       "      <td>0.011645</td>\n",
       "      <td>-0.063686</td>\n",
       "      <td>-0.083776</td>\n",
       "      <td>-0.059380</td>\n",
       "      <td>-0.044455</td>\n",
       "    </tr>\n",
       "    <tr>\n",
       "      <th>MonthlyIncome</th>\n",
       "      <td>0.497855</td>\n",
       "      <td>-0.159840</td>\n",
       "      <td>0.037885</td>\n",
       "      <td>0.007707</td>\n",
       "      <td>-0.053130</td>\n",
       "      <td>-0.017014</td>\n",
       "      <td>0.094961</td>\n",
       "      <td>0.022058</td>\n",
       "      <td>-0.006259</td>\n",
       "      <td>-0.031858</td>\n",
       "      <td>...</td>\n",
       "      <td>-0.017120</td>\n",
       "      <td>0.025873</td>\n",
       "      <td>0.005408</td>\n",
       "      <td>0.772893</td>\n",
       "      <td>-0.021736</td>\n",
       "      <td>0.030683</td>\n",
       "      <td>0.514285</td>\n",
       "      <td>0.363818</td>\n",
       "      <td>0.344978</td>\n",
       "      <td>0.344079</td>\n",
       "    </tr>\n",
       "    <tr>\n",
       "      <th>MonthlyRate</th>\n",
       "      <td>0.028051</td>\n",
       "      <td>0.015170</td>\n",
       "      <td>-0.006184</td>\n",
       "      <td>-0.032182</td>\n",
       "      <td>-0.023642</td>\n",
       "      <td>0.027473</td>\n",
       "      <td>-0.026084</td>\n",
       "      <td>0.038002</td>\n",
       "      <td>0.037600</td>\n",
       "      <td>-0.041482</td>\n",
       "      <td>...</td>\n",
       "      <td>-0.009811</td>\n",
       "      <td>-0.004085</td>\n",
       "      <td>-0.034323</td>\n",
       "      <td>0.026442</td>\n",
       "      <td>0.001467</td>\n",
       "      <td>0.007963</td>\n",
       "      <td>-0.023655</td>\n",
       "      <td>-0.012815</td>\n",
       "      <td>0.001567</td>\n",
       "      <td>-0.036746</td>\n",
       "    </tr>\n",
       "    <tr>\n",
       "      <th>NumCompaniesWorked</th>\n",
       "      <td>0.299635</td>\n",
       "      <td>0.043494</td>\n",
       "      <td>0.038209</td>\n",
       "      <td>0.038153</td>\n",
       "      <td>0.035882</td>\n",
       "      <td>-0.029251</td>\n",
       "      <td>0.126317</td>\n",
       "      <td>0.023089</td>\n",
       "      <td>0.012594</td>\n",
       "      <td>-0.039147</td>\n",
       "      <td>...</td>\n",
       "      <td>-0.014095</td>\n",
       "      <td>0.052733</td>\n",
       "      <td>0.030075</td>\n",
       "      <td>0.237639</td>\n",
       "      <td>-0.066054</td>\n",
       "      <td>-0.008366</td>\n",
       "      <td>-0.118421</td>\n",
       "      <td>-0.090754</td>\n",
       "      <td>-0.036814</td>\n",
       "      <td>-0.110319</td>\n",
       "    </tr>\n",
       "    <tr>\n",
       "      <th>OverTime</th>\n",
       "      <td>0.028062</td>\n",
       "      <td>0.246118</td>\n",
       "      <td>-0.014831</td>\n",
       "      <td>0.009135</td>\n",
       "      <td>-0.007481</td>\n",
       "      <td>0.025514</td>\n",
       "      <td>-0.020322</td>\n",
       "      <td>-0.014339</td>\n",
       "      <td>0.070132</td>\n",
       "      <td>-0.041924</td>\n",
       "      <td>...</td>\n",
       "      <td>0.004369</td>\n",
       "      <td>0.048493</td>\n",
       "      <td>-0.000449</td>\n",
       "      <td>0.012754</td>\n",
       "      <td>-0.079113</td>\n",
       "      <td>-0.027092</td>\n",
       "      <td>-0.011687</td>\n",
       "      <td>-0.029758</td>\n",
       "      <td>-0.012239</td>\n",
       "      <td>-0.041586</td>\n",
       "    </tr>\n",
       "    <tr>\n",
       "      <th>PercentSalaryHike</th>\n",
       "      <td>0.003634</td>\n",
       "      <td>-0.013478</td>\n",
       "      <td>-0.007399</td>\n",
       "      <td>0.022704</td>\n",
       "      <td>0.007840</td>\n",
       "      <td>0.040235</td>\n",
       "      <td>-0.011111</td>\n",
       "      <td>0.016938</td>\n",
       "      <td>-0.031701</td>\n",
       "      <td>0.002733</td>\n",
       "      <td>...</td>\n",
       "      <td>0.773550</td>\n",
       "      <td>-0.040490</td>\n",
       "      <td>0.007528</td>\n",
       "      <td>-0.020608</td>\n",
       "      <td>-0.005221</td>\n",
       "      <td>-0.003280</td>\n",
       "      <td>-0.035991</td>\n",
       "      <td>-0.001520</td>\n",
       "      <td>-0.022154</td>\n",
       "      <td>-0.011985</td>\n",
       "    </tr>\n",
       "    <tr>\n",
       "      <th>PerformanceRating</th>\n",
       "      <td>0.001904</td>\n",
       "      <td>0.002889</td>\n",
       "      <td>-0.023271</td>\n",
       "      <td>0.000473</td>\n",
       "      <td>0.024604</td>\n",
       "      <td>0.027110</td>\n",
       "      <td>-0.024539</td>\n",
       "      <td>0.009981</td>\n",
       "      <td>-0.029548</td>\n",
       "      <td>-0.013859</td>\n",
       "      <td>...</td>\n",
       "      <td>1.000000</td>\n",
       "      <td>-0.031351</td>\n",
       "      <td>0.003506</td>\n",
       "      <td>0.006744</td>\n",
       "      <td>-0.015579</td>\n",
       "      <td>0.002572</td>\n",
       "      <td>0.003435</td>\n",
       "      <td>0.034986</td>\n",
       "      <td>0.017896</td>\n",
       "      <td>0.022827</td>\n",
       "    </tr>\n",
       "    <tr>\n",
       "      <th>RelationshipSatisfaction</th>\n",
       "      <td>0.053535</td>\n",
       "      <td>-0.045872</td>\n",
       "      <td>-0.036246</td>\n",
       "      <td>0.007846</td>\n",
       "      <td>0.022414</td>\n",
       "      <td>0.006557</td>\n",
       "      <td>-0.009118</td>\n",
       "      <td>0.019520</td>\n",
       "      <td>0.007665</td>\n",
       "      <td>0.022868</td>\n",
       "      <td>...</td>\n",
       "      <td>-0.031351</td>\n",
       "      <td>1.000000</td>\n",
       "      <td>-0.045952</td>\n",
       "      <td>0.024054</td>\n",
       "      <td>0.002497</td>\n",
       "      <td>0.019604</td>\n",
       "      <td>0.019367</td>\n",
       "      <td>-0.015123</td>\n",
       "      <td>0.033493</td>\n",
       "      <td>-0.000867</td>\n",
       "    </tr>\n",
       "    <tr>\n",
       "      <th>StockOptionLevel</th>\n",
       "      <td>0.037510</td>\n",
       "      <td>-0.137145</td>\n",
       "      <td>0.004934</td>\n",
       "      <td>0.042143</td>\n",
       "      <td>0.012193</td>\n",
       "      <td>0.044872</td>\n",
       "      <td>0.018422</td>\n",
       "      <td>0.027241</td>\n",
       "      <td>0.003432</td>\n",
       "      <td>0.012716</td>\n",
       "      <td>...</td>\n",
       "      <td>0.003506</td>\n",
       "      <td>-0.045952</td>\n",
       "      <td>1.000000</td>\n",
       "      <td>0.010136</td>\n",
       "      <td>0.011274</td>\n",
       "      <td>0.004129</td>\n",
       "      <td>0.015058</td>\n",
       "      <td>0.050818</td>\n",
       "      <td>0.014352</td>\n",
       "      <td>0.024698</td>\n",
       "    </tr>\n",
       "    <tr>\n",
       "      <th>TotalWorkingYears</th>\n",
       "      <td>0.680381</td>\n",
       "      <td>-0.171063</td>\n",
       "      <td>0.023408</td>\n",
       "      <td>0.014515</td>\n",
       "      <td>0.015762</td>\n",
       "      <td>0.004628</td>\n",
       "      <td>0.148280</td>\n",
       "      <td>0.029329</td>\n",
       "      <td>-0.002693</td>\n",
       "      <td>-0.046881</td>\n",
       "      <td>...</td>\n",
       "      <td>0.006744</td>\n",
       "      <td>0.024054</td>\n",
       "      <td>0.010136</td>\n",
       "      <td>1.000000</td>\n",
       "      <td>-0.035662</td>\n",
       "      <td>0.001008</td>\n",
       "      <td>0.628133</td>\n",
       "      <td>0.460365</td>\n",
       "      <td>0.404858</td>\n",
       "      <td>0.459188</td>\n",
       "    </tr>\n",
       "    <tr>\n",
       "      <th>TrainingTimesLastYear</th>\n",
       "      <td>-0.019621</td>\n",
       "      <td>-0.059478</td>\n",
       "      <td>0.001815</td>\n",
       "      <td>0.002453</td>\n",
       "      <td>-0.036875</td>\n",
       "      <td>-0.036942</td>\n",
       "      <td>-0.025100</td>\n",
       "      <td>-0.016105</td>\n",
       "      <td>-0.019359</td>\n",
       "      <td>-0.038787</td>\n",
       "      <td>...</td>\n",
       "      <td>-0.015579</td>\n",
       "      <td>0.002497</td>\n",
       "      <td>0.011274</td>\n",
       "      <td>-0.035662</td>\n",
       "      <td>1.000000</td>\n",
       "      <td>0.028072</td>\n",
       "      <td>0.003569</td>\n",
       "      <td>-0.005738</td>\n",
       "      <td>-0.002067</td>\n",
       "      <td>-0.004096</td>\n",
       "    </tr>\n",
       "    <tr>\n",
       "      <th>WorkLifeBalance</th>\n",
       "      <td>-0.021490</td>\n",
       "      <td>-0.063939</td>\n",
       "      <td>-0.012289</td>\n",
       "      <td>-0.037848</td>\n",
       "      <td>-0.026383</td>\n",
       "      <td>-0.026556</td>\n",
       "      <td>0.009819</td>\n",
       "      <td>-0.050426</td>\n",
       "      <td>0.027627</td>\n",
       "      <td>-0.002753</td>\n",
       "      <td>...</td>\n",
       "      <td>0.002572</td>\n",
       "      <td>0.019604</td>\n",
       "      <td>0.004129</td>\n",
       "      <td>0.001008</td>\n",
       "      <td>0.028072</td>\n",
       "      <td>1.000000</td>\n",
       "      <td>0.012089</td>\n",
       "      <td>0.049856</td>\n",
       "      <td>0.008941</td>\n",
       "      <td>0.002759</td>\n",
       "    </tr>\n",
       "    <tr>\n",
       "      <th>YearsAtCompany</th>\n",
       "      <td>0.311309</td>\n",
       "      <td>-0.134392</td>\n",
       "      <td>-0.015754</td>\n",
       "      <td>-0.034055</td>\n",
       "      <td>-0.022920</td>\n",
       "      <td>0.009508</td>\n",
       "      <td>0.069114</td>\n",
       "      <td>0.017410</td>\n",
       "      <td>0.001458</td>\n",
       "      <td>-0.029747</td>\n",
       "      <td>...</td>\n",
       "      <td>0.003435</td>\n",
       "      <td>0.019367</td>\n",
       "      <td>0.015058</td>\n",
       "      <td>0.628133</td>\n",
       "      <td>0.003569</td>\n",
       "      <td>0.012089</td>\n",
       "      <td>1.000000</td>\n",
       "      <td>0.758754</td>\n",
       "      <td>0.618409</td>\n",
       "      <td>0.769212</td>\n",
       "    </tr>\n",
       "    <tr>\n",
       "      <th>YearsInCurrentRole</th>\n",
       "      <td>0.212901</td>\n",
       "      <td>-0.160545</td>\n",
       "      <td>-0.006077</td>\n",
       "      <td>0.009932</td>\n",
       "      <td>-0.056315</td>\n",
       "      <td>0.018845</td>\n",
       "      <td>0.060236</td>\n",
       "      <td>0.000477</td>\n",
       "      <td>0.018007</td>\n",
       "      <td>-0.041483</td>\n",
       "      <td>...</td>\n",
       "      <td>0.034986</td>\n",
       "      <td>-0.015123</td>\n",
       "      <td>0.050818</td>\n",
       "      <td>0.460365</td>\n",
       "      <td>-0.005738</td>\n",
       "      <td>0.049856</td>\n",
       "      <td>0.758754</td>\n",
       "      <td>1.000000</td>\n",
       "      <td>0.548056</td>\n",
       "      <td>0.714365</td>\n",
       "    </tr>\n",
       "    <tr>\n",
       "      <th>YearsSinceLastPromotion</th>\n",
       "      <td>0.216513</td>\n",
       "      <td>-0.033019</td>\n",
       "      <td>-0.030903</td>\n",
       "      <td>-0.033229</td>\n",
       "      <td>-0.040061</td>\n",
       "      <td>0.010029</td>\n",
       "      <td>0.054254</td>\n",
       "      <td>0.013076</td>\n",
       "      <td>0.016194</td>\n",
       "      <td>-0.026985</td>\n",
       "      <td>...</td>\n",
       "      <td>0.017896</td>\n",
       "      <td>0.033493</td>\n",
       "      <td>0.014352</td>\n",
       "      <td>0.404858</td>\n",
       "      <td>-0.002067</td>\n",
       "      <td>0.008941</td>\n",
       "      <td>0.618409</td>\n",
       "      <td>0.548056</td>\n",
       "      <td>1.000000</td>\n",
       "      <td>0.510224</td>\n",
       "    </tr>\n",
       "    <tr>\n",
       "      <th>YearsWithCurrManager</th>\n",
       "      <td>0.202089</td>\n",
       "      <td>-0.156199</td>\n",
       "      <td>-0.018872</td>\n",
       "      <td>-0.026363</td>\n",
       "      <td>-0.034282</td>\n",
       "      <td>0.014406</td>\n",
       "      <td>0.069065</td>\n",
       "      <td>-0.006465</td>\n",
       "      <td>-0.004999</td>\n",
       "      <td>-0.030599</td>\n",
       "      <td>...</td>\n",
       "      <td>0.022827</td>\n",
       "      <td>-0.000867</td>\n",
       "      <td>0.024698</td>\n",
       "      <td>0.459188</td>\n",
       "      <td>-0.004096</td>\n",
       "      <td>0.002759</td>\n",
       "      <td>0.769212</td>\n",
       "      <td>0.714365</td>\n",
       "      <td>0.510224</td>\n",
       "      <td>1.000000</td>\n",
       "    </tr>\n",
       "  </tbody>\n",
       "</table>\n",
       "<p>31 rows × 31 columns</p>\n",
       "</div>"
      ],
      "text/plain": [
       "                               Age  Attrition  BusinessTravel  DailyRate  \\\n",
       "Age                       1.000000  -0.159205        0.028740   0.010661   \n",
       "Attrition                -0.159205   1.000000       -0.085306  -0.056652   \n",
       "BusinessTravel            0.028740  -0.085306        1.000000   0.007010   \n",
       "DailyRate                 0.010661  -0.056652        0.007010   1.000000   \n",
       "Department                0.031882  -0.063991        0.005827  -0.007109   \n",
       "DistanceFromHome         -0.001686   0.077924       -0.014049  -0.004985   \n",
       "Education                 0.208034  -0.031373        0.006464  -0.016806   \n",
       "EducationField            0.034169  -0.042248       -0.044398  -0.003777   \n",
       "EnvironmentSatisfaction   0.010146  -0.103369        0.011111   0.018355   \n",
       "Gender                   -0.036311   0.029453        0.002456  -0.011716   \n",
       "HourlyRate                0.024287  -0.006846        0.025096   0.023381   \n",
       "JobInvolvement            0.029820  -0.130016        0.013137   0.046135   \n",
       "JobLevel                  0.509604  -0.169105        0.024092   0.002966   \n",
       "JobRole                   0.125951  -0.060486        0.030421  -0.005772   \n",
       "JobSatisfaction          -0.004892  -0.103481       -0.034370   0.030571   \n",
       "MaritalStatus            -0.111831   0.145985       -0.040679  -0.063512   \n",
       "MonthlyIncome             0.497855  -0.159840        0.037885   0.007707   \n",
       "MonthlyRate               0.028051   0.015170       -0.006184  -0.032182   \n",
       "NumCompaniesWorked        0.299635   0.043494        0.038209   0.038153   \n",
       "OverTime                  0.028062   0.246118       -0.014831   0.009135   \n",
       "PercentSalaryHike         0.003634  -0.013478       -0.007399   0.022704   \n",
       "PerformanceRating         0.001904   0.002889       -0.023271   0.000473   \n",
       "RelationshipSatisfaction  0.053535  -0.045872       -0.036246   0.007846   \n",
       "StockOptionLevel          0.037510  -0.137145        0.004934   0.042143   \n",
       "TotalWorkingYears         0.680381  -0.171063        0.023408   0.014515   \n",
       "TrainingTimesLastYear    -0.019621  -0.059478        0.001815   0.002453   \n",
       "WorkLifeBalance          -0.021490  -0.063939       -0.012289  -0.037848   \n",
       "YearsAtCompany            0.311309  -0.134392       -0.015754  -0.034055   \n",
       "YearsInCurrentRole        0.212901  -0.160545       -0.006077   0.009932   \n",
       "YearsSinceLastPromotion   0.216513  -0.033019       -0.030903  -0.033229   \n",
       "YearsWithCurrManager      0.202089  -0.156199       -0.018872  -0.026363   \n",
       "\n",
       "                          Department  DistanceFromHome  Education  \\\n",
       "Age                         0.031882         -0.001686   0.208034   \n",
       "Attrition                  -0.063991          0.077924  -0.031373   \n",
       "BusinessTravel              0.005827         -0.014049   0.006464   \n",
       "DailyRate                  -0.007109         -0.004985  -0.016806   \n",
       "Department                  1.000000         -0.017225  -0.007996   \n",
       "DistanceFromHome           -0.017225          1.000000   0.021042   \n",
       "Education                  -0.007996          0.021042   1.000000   \n",
       "EducationField              0.184546         -0.009135  -0.016406   \n",
       "EnvironmentSatisfaction     0.019395         -0.016075  -0.027128   \n",
       "Gender                      0.041583         -0.001851  -0.016547   \n",
       "HourlyRate                  0.004144          0.031131   0.016775   \n",
       "JobInvolvement              0.024586          0.008783   0.042438   \n",
       "JobLevel                   -0.101963          0.005303   0.101589   \n",
       "JobRole                     0.629864         -0.051681   0.012508   \n",
       "JobSatisfaction            -0.021001         -0.003669  -0.011296   \n",
       "MaritalStatus              -0.030927         -0.031992   0.003299   \n",
       "MonthlyIncome              -0.053130         -0.017014   0.094961   \n",
       "MonthlyRate                -0.023642          0.027473  -0.026084   \n",
       "NumCompaniesWorked          0.035882         -0.029251   0.126317   \n",
       "OverTime                   -0.007481          0.025514  -0.020322   \n",
       "PercentSalaryHike           0.007840          0.040235  -0.011111   \n",
       "PerformanceRating           0.024604          0.027110  -0.024539   \n",
       "RelationshipSatisfaction    0.022414          0.006557  -0.009118   \n",
       "StockOptionLevel            0.012193          0.044872   0.018422   \n",
       "TotalWorkingYears           0.015762          0.004628   0.148280   \n",
       "TrainingTimesLastYear      -0.036875         -0.036942  -0.025100   \n",
       "WorkLifeBalance            -0.026383         -0.026556   0.009819   \n",
       "YearsAtCompany             -0.022920          0.009508   0.069114   \n",
       "YearsInCurrentRole         -0.056315          0.018845   0.060236   \n",
       "YearsSinceLastPromotion    -0.040061          0.010029   0.054254   \n",
       "YearsWithCurrManager       -0.034282          0.014406   0.069065   \n",
       "\n",
       "                          EducationField  EnvironmentSatisfaction    Gender  \\\n",
       "Age                             0.034169                 0.010146 -0.036311   \n",
       "Attrition                      -0.042248                -0.103369  0.029453   \n",
       "BusinessTravel                 -0.044398                 0.011111  0.002456   \n",
       "DailyRate                      -0.003777                 0.018355 -0.011716   \n",
       "Department                      0.184546                 0.019395  0.041583   \n",
       "DistanceFromHome               -0.009135                -0.016075 -0.001851   \n",
       "Education                      -0.016406                -0.027128 -0.016547   \n",
       "EducationField                  1.000000                -0.061676  0.000460   \n",
       "EnvironmentSatisfaction        -0.061676                 1.000000  0.000508   \n",
       "Gender                          0.000460                 0.000508  1.000000   \n",
       "HourlyRate                      0.025891                -0.049857 -0.000478   \n",
       "JobInvolvement                  0.015515                -0.008278  0.017960   \n",
       "JobLevel                        0.010486                 0.001212 -0.039403   \n",
       "JobRole                         0.120419                -0.022801  0.013000   \n",
       "JobSatisfaction                 0.029954                -0.006784  0.033252   \n",
       "MaritalStatus                  -0.009870                 0.017527 -0.013074   \n",
       "MonthlyIncome                   0.022058                -0.006259 -0.031858   \n",
       "MonthlyRate                     0.038002                 0.037600 -0.041482   \n",
       "NumCompaniesWorked              0.023089                 0.012594 -0.039147   \n",
       "OverTime                       -0.014339                 0.070132 -0.041924   \n",
       "PercentSalaryHike               0.016938                -0.031701  0.002733   \n",
       "PerformanceRating               0.009981                -0.029548 -0.013859   \n",
       "RelationshipSatisfaction        0.019520                 0.007665  0.022868   \n",
       "StockOptionLevel                0.027241                 0.003432  0.012716   \n",
       "TotalWorkingYears               0.029329                -0.002693 -0.046881   \n",
       "TrainingTimesLastYear          -0.016105                -0.019359 -0.038787   \n",
       "WorkLifeBalance                -0.050426                 0.027627 -0.002753   \n",
       "YearsAtCompany                  0.017410                 0.001458 -0.029747   \n",
       "YearsInCurrentRole              0.000477                 0.018007 -0.041483   \n",
       "YearsSinceLastPromotion         0.013076                 0.016194 -0.026985   \n",
       "YearsWithCurrManager           -0.006465                -0.004999 -0.030599   \n",
       "\n",
       "                          ...  PerformanceRating  RelationshipSatisfaction  \\\n",
       "Age                       ...           0.001904                  0.053535   \n",
       "Attrition                 ...           0.002889                 -0.045872   \n",
       "BusinessTravel            ...          -0.023271                 -0.036246   \n",
       "DailyRate                 ...           0.000473                  0.007846   \n",
       "Department                ...           0.024604                  0.022414   \n",
       "DistanceFromHome          ...           0.027110                  0.006557   \n",
       "Education                 ...          -0.024539                 -0.009118   \n",
       "EducationField            ...           0.009981                  0.019520   \n",
       "EnvironmentSatisfaction   ...          -0.029548                  0.007665   \n",
       "Gender                    ...          -0.013859                  0.022868   \n",
       "HourlyRate                ...          -0.002172                  0.001330   \n",
       "JobInvolvement            ...          -0.029071                  0.034297   \n",
       "JobLevel                  ...          -0.021222                  0.021642   \n",
       "JobRole                   ...           0.011425                  0.024585   \n",
       "JobSatisfaction           ...           0.002297                 -0.012454   \n",
       "MaritalStatus             ...          -0.006043                  0.046675   \n",
       "MonthlyIncome             ...          -0.017120                  0.025873   \n",
       "MonthlyRate               ...          -0.009811                 -0.004085   \n",
       "NumCompaniesWorked        ...          -0.014095                  0.052733   \n",
       "OverTime                  ...           0.004369                  0.048493   \n",
       "PercentSalaryHike         ...           0.773550                 -0.040490   \n",
       "PerformanceRating         ...           1.000000                 -0.031351   \n",
       "RelationshipSatisfaction  ...          -0.031351                  1.000000   \n",
       "StockOptionLevel          ...           0.003506                 -0.045952   \n",
       "TotalWorkingYears         ...           0.006744                  0.024054   \n",
       "TrainingTimesLastYear     ...          -0.015579                  0.002497   \n",
       "WorkLifeBalance           ...           0.002572                  0.019604   \n",
       "YearsAtCompany            ...           0.003435                  0.019367   \n",
       "YearsInCurrentRole        ...           0.034986                 -0.015123   \n",
       "YearsSinceLastPromotion   ...           0.017896                  0.033493   \n",
       "YearsWithCurrManager      ...           0.022827                 -0.000867   \n",
       "\n",
       "                          StockOptionLevel  TotalWorkingYears  \\\n",
       "Age                               0.037510           0.680381   \n",
       "Attrition                        -0.137145          -0.171063   \n",
       "BusinessTravel                    0.004934           0.023408   \n",
       "DailyRate                         0.042143           0.014515   \n",
       "Department                        0.012193           0.015762   \n",
       "DistanceFromHome                  0.044872           0.004628   \n",
       "Education                         0.018422           0.148280   \n",
       "EducationField                    0.027241           0.029329   \n",
       "EnvironmentSatisfaction           0.003432          -0.002693   \n",
       "Gender                            0.012716          -0.046881   \n",
       "HourlyRate                        0.050263          -0.002334   \n",
       "JobInvolvement                    0.021523          -0.005533   \n",
       "JobLevel                          0.013984           0.782208   \n",
       "JobRole                          -0.017120           0.197502   \n",
       "JobSatisfaction                   0.010690          -0.020185   \n",
       "MaritalStatus                    -0.471205          -0.078555   \n",
       "MonthlyIncome                     0.005408           0.772893   \n",
       "MonthlyRate                      -0.034323           0.026442   \n",
       "NumCompaniesWorked                0.030075           0.237639   \n",
       "OverTime                         -0.000449           0.012754   \n",
       "PercentSalaryHike                 0.007528          -0.020608   \n",
       "PerformanceRating                 0.003506           0.006744   \n",
       "RelationshipSatisfaction         -0.045952           0.024054   \n",
       "StockOptionLevel                  1.000000           0.010136   \n",
       "TotalWorkingYears                 0.010136           1.000000   \n",
       "TrainingTimesLastYear             0.011274          -0.035662   \n",
       "WorkLifeBalance                   0.004129           0.001008   \n",
       "YearsAtCompany                    0.015058           0.628133   \n",
       "YearsInCurrentRole                0.050818           0.460365   \n",
       "YearsSinceLastPromotion           0.014352           0.404858   \n",
       "YearsWithCurrManager              0.024698           0.459188   \n",
       "\n",
       "                          TrainingTimesLastYear  WorkLifeBalance  \\\n",
       "Age                                   -0.019621        -0.021490   \n",
       "Attrition                             -0.059478        -0.063939   \n",
       "BusinessTravel                         0.001815        -0.012289   \n",
       "DailyRate                              0.002453        -0.037848   \n",
       "Department                            -0.036875        -0.026383   \n",
       "DistanceFromHome                      -0.036942        -0.026556   \n",
       "Education                             -0.025100         0.009819   \n",
       "EducationField                        -0.016105        -0.050426   \n",
       "EnvironmentSatisfaction               -0.019359         0.027627   \n",
       "Gender                                -0.038787        -0.002753   \n",
       "HourlyRate                            -0.008548        -0.004607   \n",
       "JobInvolvement                        -0.015338        -0.014617   \n",
       "JobLevel                              -0.018191         0.037818   \n",
       "JobRole                               -0.045075        -0.003723   \n",
       "JobSatisfaction                       -0.005779        -0.019459   \n",
       "MaritalStatus                          0.029856         0.011645   \n",
       "MonthlyIncome                         -0.021736         0.030683   \n",
       "MonthlyRate                            0.001467         0.007963   \n",
       "NumCompaniesWorked                    -0.066054        -0.008366   \n",
       "OverTime                              -0.079113        -0.027092   \n",
       "PercentSalaryHike                     -0.005221        -0.003280   \n",
       "PerformanceRating                     -0.015579         0.002572   \n",
       "RelationshipSatisfaction               0.002497         0.019604   \n",
       "StockOptionLevel                       0.011274         0.004129   \n",
       "TotalWorkingYears                     -0.035662         0.001008   \n",
       "TrainingTimesLastYear                  1.000000         0.028072   \n",
       "WorkLifeBalance                        0.028072         1.000000   \n",
       "YearsAtCompany                         0.003569         0.012089   \n",
       "YearsInCurrentRole                    -0.005738         0.049856   \n",
       "YearsSinceLastPromotion               -0.002067         0.008941   \n",
       "YearsWithCurrManager                  -0.004096         0.002759   \n",
       "\n",
       "                          YearsAtCompany  YearsInCurrentRole  \\\n",
       "Age                             0.311309            0.212901   \n",
       "Attrition                      -0.134392           -0.160545   \n",
       "BusinessTravel                 -0.015754           -0.006077   \n",
       "DailyRate                      -0.034055            0.009932   \n",
       "Department                     -0.022920           -0.056315   \n",
       "DistanceFromHome                0.009508            0.018845   \n",
       "Education                       0.069114            0.060236   \n",
       "EducationField                  0.017410            0.000477   \n",
       "EnvironmentSatisfaction         0.001458            0.018007   \n",
       "Gender                         -0.029747           -0.041483   \n",
       "HourlyRate                     -0.019582           -0.024106   \n",
       "JobInvolvement                 -0.021355            0.008717   \n",
       "JobLevel                        0.534739            0.389447   \n",
       "JobRole                         0.093378            0.001325   \n",
       "JobSatisfaction                -0.003803           -0.002305   \n",
       "MaritalStatus                  -0.063686           -0.083776   \n",
       "MonthlyIncome                   0.514285            0.363818   \n",
       "MonthlyRate                    -0.023655           -0.012815   \n",
       "NumCompaniesWorked             -0.118421           -0.090754   \n",
       "OverTime                       -0.011687           -0.029758   \n",
       "PercentSalaryHike              -0.035991           -0.001520   \n",
       "PerformanceRating               0.003435            0.034986   \n",
       "RelationshipSatisfaction        0.019367           -0.015123   \n",
       "StockOptionLevel                0.015058            0.050818   \n",
       "TotalWorkingYears               0.628133            0.460365   \n",
       "TrainingTimesLastYear           0.003569           -0.005738   \n",
       "WorkLifeBalance                 0.012089            0.049856   \n",
       "YearsAtCompany                  1.000000            0.758754   \n",
       "YearsInCurrentRole              0.758754            1.000000   \n",
       "YearsSinceLastPromotion         0.618409            0.548056   \n",
       "YearsWithCurrManager            0.769212            0.714365   \n",
       "\n",
       "                          YearsSinceLastPromotion  YearsWithCurrManager  \n",
       "Age                                      0.216513              0.202089  \n",
       "Attrition                               -0.033019             -0.156199  \n",
       "BusinessTravel                          -0.030903             -0.018872  \n",
       "DailyRate                               -0.033229             -0.026363  \n",
       "Department                              -0.040061             -0.034282  \n",
       "DistanceFromHome                         0.010029              0.014406  \n",
       "Education                                0.054254              0.069065  \n",
       "EducationField                           0.013076             -0.006465  \n",
       "EnvironmentSatisfaction                  0.016194             -0.004999  \n",
       "Gender                                  -0.026985             -0.030599  \n",
       "HourlyRate                              -0.026716             -0.020123  \n",
       "JobInvolvement                          -0.024184              0.025976  \n",
       "JobLevel                                 0.353885              0.375281  \n",
       "JobRole                                  0.045849             -0.000483  \n",
       "JobSatisfaction                         -0.018214             -0.027656  \n",
       "MaritalStatus                           -0.059380             -0.044455  \n",
       "MonthlyIncome                            0.344978              0.344079  \n",
       "MonthlyRate                              0.001567             -0.036746  \n",
       "NumCompaniesWorked                      -0.036814             -0.110319  \n",
       "OverTime                                -0.012239             -0.041586  \n",
       "PercentSalaryHike                       -0.022154             -0.011985  \n",
       "PerformanceRating                        0.017896              0.022827  \n",
       "RelationshipSatisfaction                 0.033493             -0.000867  \n",
       "StockOptionLevel                         0.014352              0.024698  \n",
       "TotalWorkingYears                        0.404858              0.459188  \n",
       "TrainingTimesLastYear                   -0.002067             -0.004096  \n",
       "WorkLifeBalance                          0.008941              0.002759  \n",
       "YearsAtCompany                           0.618409              0.769212  \n",
       "YearsInCurrentRole                       0.548056              0.714365  \n",
       "YearsSinceLastPromotion                  1.000000              0.510224  \n",
       "YearsWithCurrManager                     0.510224              1.000000  \n",
       "\n",
       "[31 rows x 31 columns]"
      ]
     },
     "execution_count": 165,
     "metadata": {},
     "output_type": "execute_result"
    }
   ],
   "source": [
    "compute_corr_matrix(emp_df)"
   ]
  },
  {
   "cell_type": "code",
   "execution_count": 44,
   "id": "naval-sapphire",
   "metadata": {},
   "outputs": [
    {
     "data": {
      "text/plain": [
       "<matplotlib.axes._subplots.AxesSubplot at 0x7f6f4984fc50>"
      ]
     },
     "execution_count": 44,
     "metadata": {},
     "output_type": "execute_result"
    },
    {
     "data": {
      "image/png": "[encoded data removed]",
      "text/plain": [
       "<Figure size 3960x3240 with 2 Axes>"
      ]
     },
     "metadata": {
      "needs_background": "light"
     },
     "output_type": "display_data"
    }
   ],
   "source": [
    "import seaborn as sns\n",
    "import matplotlib.pyplot as plt\n",
    "plt.figure(figsize=(55, 45))\n",
    "# plt.rc('xtick', labelsize=30) \n",
    "# plt.rc('ytick', labelsize=30)\n",
    "# plt.rc('font', size=20)  \n",
    "sns.heatmap(compute_corr_matrix(emp_df), annot=True)"
   ]
  },
  {
   "cell_type": "markdown",
   "id": "limited-palmer",
   "metadata": {},
   "source": [
    "Writing a function to identify the highly correlated features"
   ]
  },
  {
   "cell_type": "code",
   "execution_count": 166,
   "id": "christian-negotiation",
   "metadata": {},
   "outputs": [],
   "source": [
    "def  correlation (dataset, threshold):\n",
    "    col_corr = set()\n",
    "    for i in range(len(dataset.columns)):\n",
    "        for j in range(i):\n",
    "            if dataset.iloc[i, j] > threshold:\n",
    "                colname = dataset.columns[i]\n",
    "                col_corr.add(colname)\n",
    "    return col_corr"
   ]
  },
  {
   "cell_type": "code",
   "execution_count": 167,
   "id": "available-adoption",
   "metadata": {},
   "outputs": [],
   "source": [
    "corr = compute_corr_matrix(emp_df)"
   ]
  },
  {
   "cell_type": "code",
   "execution_count": 168,
   "id": "inside-hepatitis",
   "metadata": {},
   "outputs": [],
   "source": [
    "corr_features = correlation(corr, 0.75)"
   ]
  },
  {
   "cell_type": "markdown",
   "id": "worse-tragedy",
   "metadata": {},
   "source": [
    "Highly correlated features"
   ]
  },
  {
   "cell_type": "code",
   "execution_count": 169,
   "id": "computational-submission",
   "metadata": {},
   "outputs": [
    {
     "data": {
      "text/plain": [
       "{'MonthlyIncome',\n",
       " 'PerformanceRating',\n",
       " 'TotalWorkingYears',\n",
       " 'YearsInCurrentRole',\n",
       " 'YearsWithCurrManager'}"
      ]
     },
     "execution_count": 169,
     "metadata": {},
     "output_type": "execute_result"
    }
   ],
   "source": [
    "corr_features"
   ]
  },
  {
   "cell_type": "markdown",
   "id": "shaped-smith",
   "metadata": {},
   "source": [
    "Dropping highly correlated features to avoid overfitting"
   ]
  },
  {
   "cell_type": "markdown",
   "id": "excited-tissue",
   "metadata": {},
   "source": [
    "Dropping joblevel - Percentsalary - MonthlyIncome - YearsInCurrentRole - YearsWithCurrManager"
   ]
  },
  {
   "cell_type": "code",
   "execution_count": 171,
   "id": "upset-phone",
   "metadata": {},
   "outputs": [],
   "source": [
    "emp_df = emp_df.drop('joblevel', 'Percentsalary', 'MonthlyIncome', 'YearsInCurrentRole', 'YearsWithCurrManager')"
   ]
  },
  {
   "cell_type": "markdown",
   "id": "recent-liquid",
   "metadata": {},
   "source": [
    "Creating feature vectors"
   ]
  },
  {
   "cell_type": "code",
   "execution_count": 172,
   "id": "micro-bobby",
   "metadata": {},
   "outputs": [],
   "source": [
    "f_cols=emp_df.columns\n",
    "f_cols.remove('Attrition')"
   ]
  },
  {
   "cell_type": "code",
   "execution_count": 173,
   "id": "allied-platform",
   "metadata": {},
   "outputs": [],
   "source": [
    "from pyspark.ml.feature import VectorAssembler\n",
    "assembler = VectorAssembler(inputCols=f_cols, outputCol='features')"
   ]
  },
  {
   "cell_type": "markdown",
   "id": "japanese-candle",
   "metadata": {},
   "source": [
    "Conver input cols into features"
   ]
  },
  {
   "cell_type": "code",
   "execution_count": 174,
   "id": "executive-escape",
   "metadata": {},
   "outputs": [],
   "source": [
    "emp_df = assembler.transform(emp_df)"
   ]
  },
  {
   "cell_type": "code",
   "execution_count": 175,
   "id": "human-timothy",
   "metadata": {},
   "outputs": [
    {
     "name": "stdout",
     "output_type": "stream",
     "text": [
      "+--------------------------------------------------------------------------------------------------------------------+\n",
      "|features                                                                                                            |\n",
      "+--------------------------------------------------------------------------------------------------------------------+\n",
      "|[41.0,2.0,1102.0,0.0,1.0,2.0,4.0,2.0,0.0,94.0,3.0,0.0,4.0,2.0,19479.0,8.0,1.0,11.0,3.0,1.0,0.0,8.0,0.0,1.0,6.0,0.0] |\n",
      "|[49.0,0.0,279.0,1.0,8.0,1.0,4.0,3.0,1.0,61.0,2.0,5.0,2.0,0.0,24907.0,1.0,0.0,23.0,4.0,4.0,1.0,10.0,3.0,3.0,10.0,1.0]|\n",
      "|[37.0,2.0,1373.0,1.0,2.0,2.0,0.0,4.0,1.0,92.0,2.0,2.0,3.0,2.0,2396.0,6.0,1.0,15.0,3.0,2.0,0.0,7.0,3.0,3.0,0.0,0.0]  |\n",
      "|[33.0,0.0,1392.0,1.0,3.0,4.0,4.0,4.0,0.0,56.0,3.0,5.0,3.0,0.0,23159.0,1.0,1.0,11.0,3.0,3.0,0.0,8.0,3.0,3.0,8.0,3.0] |\n",
      "|[27.0,2.0,591.0,1.0,2.0,1.0,3.0,1.0,1.0,40.0,3.0,2.0,2.0,0.0,16632.0,9.0,0.0,12.0,3.0,4.0,1.0,6.0,3.0,3.0,2.0,2.0]  |\n",
      "+--------------------------------------------------------------------------------------------------------------------+\n",
      "only showing top 5 rows\n",
      "\n"
     ]
    }
   ],
   "source": [
    "emp_df.select('features').show(5, truncate=False)"
   ]
  },
  {
   "cell_type": "markdown",
   "id": "purple-society",
   "metadata": {},
   "source": [
    "Scaling\n"
   ]
  },
  {
   "cell_type": "code",
   "execution_count": 176,
   "id": "impaired-visitor",
   "metadata": {},
   "outputs": [
    {
     "data": {
      "text/plain": [
       "DataFrame[features: vector, scaled_features: vector]"
      ]
     },
     "execution_count": 176,
     "metadata": {},
     "output_type": "execute_result"
    }
   ],
   "source": [
    "from pyspark.ml.feature import StandardScaler\n",
    "\n",
    "standard_scaler = StandardScaler().setInputCol('features').setOutputCol('scaled_features')\n",
    "\n",
    "emp_df = standard_scaler.fit(emp_df).transform(emp_df)\n",
    "\n",
    "emp_df.select(\"features\", \"scaled_features\")"
   ]
  },
  {
   "cell_type": "code",
   "execution_count": 177,
   "id": "classified-variable",
   "metadata": {},
   "outputs": [
    {
     "name": "stdout",
     "output_type": "stream",
     "text": [
      "+--------------------+--------------------+\n",
      "|            features|     scaled_features|\n",
      "+--------------------+--------------------+\n",
      "|[41.0,2.0,1102.0,...|[4.48804857828252...|\n",
      "|[49.0,0.0,279.0,1...|[5.36376537404497...|\n",
      "|[37.0,2.0,1373.0,...|[4.05019018040130...|\n",
      "|[33.0,0.0,1392.0,...|[3.61233178252008...|\n",
      "|[27.0,2.0,591.0,1...|[2.95554418569825...|\n",
      "+--------------------+--------------------+\n",
      "only showing top 5 rows\n",
      "\n"
     ]
    }
   ],
   "source": [
    "emp_df.select(\"features\", \"scaled_features\").show(5)"
   ]
  },
  {
   "cell_type": "markdown",
   "id": "intellectual-compact",
   "metadata": {},
   "source": [
    " Train & test split"
   ]
  },
  {
   "cell_type": "code",
   "execution_count": 178,
   "id": "ordinary-syndicate",
   "metadata": {},
   "outputs": [],
   "source": [
    "train, test = emp_df.randomSplit([.8,.2],  seed=111)"
   ]
  },
  {
   "cell_type": "code",
   "execution_count": 179,
   "id": "secondary-senior",
   "metadata": {},
   "outputs": [
    {
     "data": {
      "text/plain": [
       "<seaborn.axisgrid.FacetGrid at 0x7f93a2017e10>"
      ]
     },
     "execution_count": 179,
     "metadata": {},
     "output_type": "execute_result"
    },
    {
     "data": {
      "image/png": "[encoded data removed]",
      "text/plain": [
       "<Figure size 360x360 with 1 Axes>"
      ]
     },
     "metadata": {
      "needs_background": "light"
     },
     "output_type": "display_data"
    }
   ],
   "source": [
    "sns.catplot(x='Attrition', kind='count',\n",
    "            data=emp_df.toPandas(), palette='magma')"
   ]
  },
  {
   "cell_type": "markdown",
   "id": "complimentary-rally",
   "metadata": {},
   "source": [
    "Weighting for unequal sample size"
   ]
  },
  {
   "cell_type": "code",
   "execution_count": 180,
   "id": "answering-repository",
   "metadata": {},
   "outputs": [
    {
     "name": "stdout",
     "output_type": "stream",
     "text": [
      "The number of ones are 190\n",
      "Percentage of ones 0.15966386554621848\n"
     ]
    }
   ],
   "source": [
    "dataset_size= float(train.select(\"Attrition\").count())\n",
    "num_positives= train.select(\"Attrition\").where(\"Attrition == 1\").count()\n",
    "per_one = (float(num_positives)/dataset_size)\n",
    "\n",
    "dataset_size, num_positives, per_one\n",
    "\n",
    "print(\"The number of ones are %s\" % num_positives)\n",
    "print(\"Percentage of ones %s\" % per_one)"
   ]
  },
  {
   "cell_type": "code",
   "execution_count": 181,
   "id": "silver-confusion",
   "metadata": {},
   "outputs": [
    {
     "name": "stdout",
     "output_type": "stream",
     "text": [
      "balance_ratio = 0.8403361344537815\n"
     ]
    }
   ],
   "source": [
    "num_negatives = dataset_size - num_positives\n",
    "balance_ratio = num_negatives / dataset_size\n",
    "\n",
    "print(\"balance_ratio = %s\" % balance_ratio)"
   ]
  },
  {
   "cell_type": "code",
   "execution_count": 182,
   "id": "inside-freight",
   "metadata": {
    "collapsed": true
   },
   "outputs": [
    {
     "name": "stdout",
     "output_type": "stream",
     "text": [
      "+-------------------+\n",
      "|       classWeights|\n",
      "+-------------------+\n",
      "|0.15966386554621848|\n",
      "|0.15966386554621848|\n",
      "|0.15966386554621848|\n",
      "|0.15966386554621848|\n",
      "| 0.8403361344537815|\n",
      "| 0.8403361344537815|\n",
      "| 0.8403361344537815|\n",
      "|0.15966386554621848|\n",
      "|0.15966386554621848|\n",
      "|0.15966386554621848|\n",
      "| 0.8403361344537815|\n",
      "| 0.8403361344537815|\n",
      "| 0.8403361344537815|\n",
      "|0.15966386554621848|\n",
      "|0.15966386554621848|\n",
      "|0.15966386554621848|\n",
      "|0.15966386554621848|\n",
      "|0.15966386554621848|\n",
      "| 0.8403361344537815|\n",
      "| 0.8403361344537815|\n",
      "+-------------------+\n",
      "only showing top 20 rows\n",
      "\n"
     ]
    }
   ],
   "source": [
    "train = train.withColumn(\"classWeights\", when(train.Attrition == 1, balance_ratio).otherwise(1 - balance_ratio))\n",
    "train.select(\"classWeights\").show()"
   ]
  },
  {
   "cell_type": "markdown",
   "id": "collect-charlotte",
   "metadata": {},
   "source": [
    "### Logistic Regression"
   ]
  },
  {
   "cell_type": "code",
   "execution_count": 183,
   "id": "wrapped-artwork",
   "metadata": {},
   "outputs": [],
   "source": [
    "from pyspark.ml.classification import LogisticRegression"
   ]
  },
  {
   "cell_type": "markdown",
   "id": "monetary-astrology",
   "metadata": {},
   "source": [
    "Weighted columns"
   ]
  },
  {
   "cell_type": "code",
   "execution_count": 184,
   "id": "economic-making",
   "metadata": {},
   "outputs": [],
   "source": [
    "logit_model = LogisticRegression(labelCol='Attrition', featuresCol='features', weightCol='classWeights', maxIter=20)"
   ]
  },
  {
   "cell_type": "code",
   "execution_count": 185,
   "id": "southwest-stroke",
   "metadata": {},
   "outputs": [],
   "source": [
    "model = logit_model.fit(train)"
   ]
  },
  {
   "cell_type": "code",
   "execution_count": 186,
   "id": "celtic-forum",
   "metadata": {},
   "outputs": [],
   "source": [
    "predict_train = model.transform(train)\n",
    "predict_test = model.transform(test)"
   ]
  },
  {
   "cell_type": "code",
   "execution_count": 189,
   "id": "favorite-restaurant",
   "metadata": {},
   "outputs": [
    {
     "name": "stdout",
     "output_type": "stream",
     "text": [
      "+---------+----------+\n",
      "|Attrition|prediction|\n",
      "+---------+----------+\n",
      "|        1|       1.0|\n",
      "|        1|       1.0|\n",
      "|        1|       1.0|\n",
      "|        1|       1.0|\n",
      "|        1|       1.0|\n",
      "|        1|       1.0|\n",
      "|        0|       1.0|\n",
      "|        1|       1.0|\n",
      "|        0|       0.0|\n",
      "|        0|       0.0|\n",
      "|        1|       1.0|\n",
      "|        1|       0.0|\n",
      "|        0|       0.0|\n",
      "|        0|       0.0|\n",
      "|        0|       0.0|\n",
      "|        0|       0.0|\n",
      "|        0|       0.0|\n",
      "|        1|       0.0|\n",
      "|        0|       1.0|\n",
      "|        0|       0.0|\n",
      "+---------+----------+\n",
      "only showing top 20 rows\n",
      "\n"
     ]
    }
   ],
   "source": [
    "predict_test.select(\"Attrition\", \"prediction\").show()"
   ]
  },
  {
   "cell_type": "code",
   "execution_count": 190,
   "id": "searching-latest",
   "metadata": {},
   "outputs": [
    {
     "data": {
      "text/plain": [
       "(214, 66, 0.7642857142857142)"
      ]
     },
     "execution_count": 190,
     "metadata": {},
     "output_type": "execute_result"
    }
   ],
   "source": [
    "predict_test.where(\"Attrition == prediction\").count(),\\\n",
    "predict_test.where(\"Attrition != prediction\").count(),\\\n",
    "predict_test.where(\"Attrition == prediction\").count()/predict_test.count(),"
   ]
  },
  {
   "cell_type": "code",
   "execution_count": 191,
   "id": "greater-button",
   "metadata": {},
   "outputs": [
    {
     "name": "stdout",
     "output_type": "stream",
     "text": [
      "Accuracy:  0.7642857142857142\n"
     ]
    }
   ],
   "source": [
    "from pyspark.ml.evaluation import MulticlassClassificationEvaluator\n",
    "\n",
    "evaluator = MulticlassClassificationEvaluator(labelCol=\"Attrition\", predictionCol=\"prediction\", \n",
    "                                             metricName=\"accuracy\")\n",
    "\n",
    "accuracy = evaluator.evaluate(predict_test)\n",
    "print(\"Accuracy: \", (accuracy))"
   ]
  },
  {
   "cell_type": "markdown",
   "id": "expensive-might",
   "metadata": {},
   "source": [
    "Confusion Matrix"
   ]
  },
  {
   "cell_type": "code",
   "execution_count": 192,
   "id": "popular-revelation",
   "metadata": {},
   "outputs": [],
   "source": [
    "from sklearn.metrics import confusion_matrix"
   ]
  },
  {
   "cell_type": "code",
   "execution_count": 193,
   "id": "aboriginal-brain",
   "metadata": {},
   "outputs": [
    {
     "data": {
      "text/plain": [
       "array([[182,  51],\n",
       "       [ 15,  32]])"
      ]
     },
     "execution_count": 193,
     "metadata": {},
     "output_type": "execute_result"
    }
   ],
   "source": [
    "y_true = predict_test.select('Attrition').toPandas()\n",
    "\n",
    "y_pred = predict_test.select('prediction').toPandas()\n",
    "\n",
    "confusion_mat = confusion_matrix(y_true, y_pred)\n",
    "\n",
    "confusion_mat"
   ]
  },
  {
   "cell_type": "markdown",
   "id": "developmental-affect",
   "metadata": {},
   "source": [
    "Sensitivity /  Recall"
   ]
  },
  {
   "cell_type": "code",
   "execution_count": 195,
   "id": "harmful-partnership",
   "metadata": {},
   "outputs": [
    {
     "data": {
      "text/plain": [
       "0.7811158798283262"
      ]
     },
     "execution_count": 195,
     "metadata": {},
     "output_type": "execute_result"
    }
   ],
   "source": [
    "confusion_mat[0, 0]/(confusion_mat[0, 0] + confusion_mat[0, 1])"
   ]
  },
  {
   "cell_type": "markdown",
   "id": "clear-governor",
   "metadata": {},
   "source": [
    "Specificity"
   ]
  },
  {
   "cell_type": "code",
   "execution_count": 196,
   "id": "generous-acquisition",
   "metadata": {},
   "outputs": [
    {
     "data": {
      "text/plain": [
       "0.6808510638297872"
      ]
     },
     "execution_count": 196,
     "metadata": {},
     "output_type": "execute_result"
    }
   ],
   "source": [
    "confusion_mat[1, 1]/(confusion_mat[1, 1] + confusion_mat[1, 0])"
   ]
  },
  {
   "cell_type": "markdown",
   "id": "alone-flash",
   "metadata": {},
   "source": [
    "Precision"
   ]
  },
  {
   "cell_type": "code",
   "execution_count": 197,
   "id": "armed-flashing",
   "metadata": {},
   "outputs": [
    {
     "data": {
      "text/plain": [
       "0.9238578680203046"
      ]
     },
     "execution_count": 197,
     "metadata": {},
     "output_type": "execute_result"
    }
   ],
   "source": [
    "confusion_mat[0, 0]/(confusion_mat[0, 0] + confusion_mat[1, 0])"
   ]
  },
  {
   "cell_type": "markdown",
   "id": "published-equivalent",
   "metadata": {},
   "source": [
    "### Decision Tree"
   ]
  },
  {
   "cell_type": "code",
   "execution_count": 198,
   "id": "heated-saturday",
   "metadata": {},
   "outputs": [],
   "source": [
    "from pyspark.ml.classification import DecisionTreeClassifier"
   ]
  },
  {
   "cell_type": "code",
   "execution_count": 199,
   "id": "cooperative-congo",
   "metadata": {},
   "outputs": [],
   "source": [
    "dt = DecisionTreeClassifier(labelCol=\"Attrition\", featuresCol=\"features\")\n",
    "dt_model = dt.fit(train)"
   ]
  },
  {
   "cell_type": "code",
   "execution_count": 200,
   "id": "wanted-spanish",
   "metadata": {},
   "outputs": [],
   "source": [
    "dt_prediction = dt_model.transform(test)"
   ]
  },
  {
   "cell_type": "code",
   "execution_count": 201,
   "id": "boolean-christopher",
   "metadata": {},
   "outputs": [
    {
     "name": "stdout",
     "output_type": "stream",
     "text": [
      "+----------+---------+--------------------+\n",
      "|prediction|Attrition|            features|\n",
      "+----------+---------+--------------------+\n",
      "|       1.0|        1|[18.0,0.0,1306.0,...|\n",
      "|       1.0|        1|[19.0,0.0,602.0,0...|\n",
      "|       0.0|        1|[19.0,2.0,303.0,1...|\n",
      "|       1.0|        1|[19.0,2.0,419.0,0...|\n",
      "|       0.0|        1|[20.0,0.0,769.0,0...|\n",
      "|       0.0|        1|[20.0,2.0,500.0,0...|\n",
      "|       0.0|        0|[21.0,1.0,895.0,0...|\n",
      "|       0.0|        1|[21.0,0.0,756.0,0...|\n",
      "|       0.0|        0|[22.0,2.0,253.0,1...|\n",
      "|       0.0|        0|[22.0,2.0,604.0,1...|\n",
      "|       1.0|        1|[22.0,0.0,1256.0,...|\n",
      "|       0.0|        1|[22.0,2.0,617.0,1...|\n",
      "|       0.0|        0|[23.0,2.0,160.0,1...|\n",
      "|       0.0|        0|[23.0,2.0,885.0,1...|\n",
      "|       0.0|        0|[24.0,1.0,830.0,0...|\n",
      "|       0.0|        0|[24.0,1.0,1092.0,...|\n",
      "|       0.0|        0|[24.0,2.0,1353.0,...|\n",
      "|       0.0|        1|[24.0,2.0,984.0,1...|\n",
      "|       0.0|        0|[25.0,2.0,583.0,0...|\n",
      "|       0.0|        0|[25.0,2.0,882.0,1...|\n",
      "+----------+---------+--------------------+\n",
      "only showing top 20 rows\n",
      "\n"
     ]
    }
   ],
   "source": [
    "dt_prediction.select(\"prediction\", \"Attrition\", \"features\").show()"
   ]
  },
  {
   "cell_type": "markdown",
   "id": "major-exhaust",
   "metadata": {},
   "source": [
    "Evaluation"
   ]
  },
  {
   "cell_type": "code",
   "execution_count": 207,
   "id": "greater-church",
   "metadata": {},
   "outputs": [],
   "source": [
    "from pyspark.ml.evaluation import MulticlassClassificationEvaluator"
   ]
  },
  {
   "cell_type": "code",
   "execution_count": 208,
   "id": "understood-pittsburgh",
   "metadata": {},
   "outputs": [],
   "source": [
    "evaluator = MulticlassClassificationEvaluator(labelCol=\"Attrition\", predictionCol=\"prediction\", \n",
    "                                             metricName=\"accuracy\")"
   ]
  },
  {
   "cell_type": "markdown",
   "id": "placed-tunisia",
   "metadata": {},
   "source": [
    "Evaluate on testing data"
   ]
  },
  {
   "cell_type": "code",
   "execution_count": 209,
   "id": "failing-trouble",
   "metadata": {},
   "outputs": [
    {
     "name": "stdout",
     "output_type": "stream",
     "text": [
      "Accuracy:  0.8214285714285714\n"
     ]
    }
   ],
   "source": [
    "accuracy = evaluator.evaluate(dt_prediction)\n",
    "print(\"Accuracy: \", (accuracy))"
   ]
  },
  {
   "cell_type": "markdown",
   "id": "preliminary-flooring",
   "metadata": {},
   "source": [
    "Confusion Matrix"
   ]
  },
  {
   "cell_type": "code",
   "execution_count": 211,
   "id": "growing-boulder",
   "metadata": {},
   "outputs": [
    {
     "data": {
      "text/plain": [
       "array([[221,  12],\n",
       "       [ 38,   9]])"
      ]
     },
     "execution_count": 211,
     "metadata": {},
     "output_type": "execute_result"
    }
   ],
   "source": [
    "y_true = dt_prediction.select('Attrition').toPandas()\n",
    "\n",
    "y_pred = dt_prediction.select('prediction').toPandas()\n",
    "\n",
    "confusion_mat = confusion_matrix(y_true, y_pred)\n",
    "\n",
    "confusion_mat"
   ]
  },
  {
   "cell_type": "markdown",
   "id": "romance-intermediate",
   "metadata": {},
   "source": [
    "Sensitivity /  Recall"
   ]
  },
  {
   "cell_type": "code",
   "execution_count": 212,
   "id": "soviet-residence",
   "metadata": {},
   "outputs": [
    {
     "data": {
      "text/plain": [
       "0.9484978540772532"
      ]
     },
     "execution_count": 212,
     "metadata": {},
     "output_type": "execute_result"
    }
   ],
   "source": [
    "confusion_mat[0, 0]/(confusion_mat[0, 0] + confusion_mat[0, 1])"
   ]
  },
  {
   "cell_type": "markdown",
   "id": "charged-actor",
   "metadata": {},
   "source": [
    "Specificity"
   ]
  },
  {
   "cell_type": "code",
   "execution_count": 213,
   "id": "confident-adelaide",
   "metadata": {},
   "outputs": [
    {
     "data": {
      "text/plain": [
       "0.19148936170212766"
      ]
     },
     "execution_count": 213,
     "metadata": {},
     "output_type": "execute_result"
    }
   ],
   "source": [
    "confusion_mat[1, 1]/(confusion_mat[1, 1] + confusion_mat[1, 0])"
   ]
  },
  {
   "cell_type": "markdown",
   "id": "fiscal-hurricane",
   "metadata": {},
   "source": [
    "Precision"
   ]
  },
  {
   "cell_type": "code",
   "execution_count": 214,
   "id": "surrounded-sheriff",
   "metadata": {},
   "outputs": [
    {
     "data": {
      "text/plain": [
       "0.8532818532818532"
      ]
     },
     "execution_count": 214,
     "metadata": {},
     "output_type": "execute_result"
    }
   ],
   "source": [
    "confusion_mat[0, 0]/(confusion_mat[0, 0] + confusion_mat[1, 0])"
   ]
  },
  {
   "cell_type": "markdown",
   "id": "pressing-process",
   "metadata": {},
   "source": [
    "### Random Forest"
   ]
  },
  {
   "cell_type": "code",
   "execution_count": 215,
   "id": "funny-footage",
   "metadata": {},
   "outputs": [],
   "source": [
    "from pyspark.ml.classification import RandomForestClassifier as RF"
   ]
  },
  {
   "cell_type": "markdown",
   "id": "quarterly-fitness",
   "metadata": {},
   "source": [
    "We are using a Random Forest with numTrees = 72. And we train on training data and predict on test data"
   ]
  },
  {
   "cell_type": "code",
   "execution_count": 217,
   "id": "sonic-pricing",
   "metadata": {},
   "outputs": [],
   "source": [
    "rf = RF(labelCol='Attrition', featuresCol='features', impurity = 'entropy', numTrees = 72, maxDepth = 12)\n",
    "fit = rf.fit(train)\n",
    "predict_test = fit.transform(test)"
   ]
  },
  {
   "cell_type": "code",
   "execution_count": 218,
   "id": "exempt-smith",
   "metadata": {},
   "outputs": [
    {
     "name": "stdout",
     "output_type": "stream",
     "text": [
      "+---------+----------+\n",
      "|Attrition|prediction|\n",
      "+---------+----------+\n",
      "|        1|       1.0|\n",
      "|        1|       1.0|\n",
      "|        1|       1.0|\n",
      "|        1|       1.0|\n",
      "|        1|       1.0|\n",
      "|        1|       0.0|\n",
      "|        0|       0.0|\n",
      "|        1|       1.0|\n",
      "|        0|       0.0|\n",
      "|        0|       0.0|\n",
      "|        1|       0.0|\n",
      "|        1|       0.0|\n",
      "|        0|       0.0|\n",
      "|        0|       0.0|\n",
      "|        0|       0.0|\n",
      "|        0|       0.0|\n",
      "|        0|       0.0|\n",
      "|        1|       0.0|\n",
      "|        0|       0.0|\n",
      "|        0|       0.0|\n",
      "+---------+----------+\n",
      "only showing top 20 rows\n",
      "\n"
     ]
    }
   ],
   "source": [
    "predict_test.select(\"Attrition\", \"prediction\").show()"
   ]
  },
  {
   "cell_type": "code",
   "execution_count": 219,
   "id": "exterior-sugar",
   "metadata": {},
   "outputs": [
    {
     "data": {
      "text/plain": [
       "(245, 35, 0.875)"
      ]
     },
     "execution_count": 219,
     "metadata": {},
     "output_type": "execute_result"
    }
   ],
   "source": [
    "predict_test.where(\"Attrition == prediction\").count(),\\\n",
    "predict_test.where(\"Attrition != prediction\").count(),\\\n",
    "predict_test.where(\"Attrition == prediction\").count()/predict_test.count(),"
   ]
  },
  {
   "cell_type": "code",
   "execution_count": 220,
   "id": "monetary-elite",
   "metadata": {},
   "outputs": [
    {
     "name": "stdout",
     "output_type": "stream",
     "text": [
      "Accuracy:  0.875\n"
     ]
    }
   ],
   "source": [
    "from pyspark.ml.evaluation import MulticlassClassificationEvaluator\n",
    "\n",
    "evaluator = MulticlassClassificationEvaluator(labelCol=\"Attrition\", predictionCol=\"prediction\", \n",
    "                                             metricName=\"accuracy\")\n",
    "\n",
    "accuracy = evaluator.evaluate(predict_test)\n",
    "print(\"Accuracy: \", (accuracy))"
   ]
  },
  {
   "cell_type": "markdown",
   "id": "compliant-hypothesis",
   "metadata": {},
   "source": [
    "\n",
    "Confusion Matrix\n"
   ]
  },
  {
   "cell_type": "code",
   "execution_count": 221,
   "id": "absolute-montreal",
   "metadata": {},
   "outputs": [
    {
     "data": {
      "text/plain": [
       "array([[233,   0],\n",
       "       [ 35,  12]])"
      ]
     },
     "execution_count": 221,
     "metadata": {},
     "output_type": "execute_result"
    }
   ],
   "source": [
    "y_true = predict_test.select('Attrition').toPandas()\n",
    "\n",
    "y_pred = predict_test.select('prediction').toPandas()\n",
    "\n",
    "confusion_mat = confusion_matrix(y_true, y_pred)\n",
    "\n",
    "confusion_mat"
   ]
  },
  {
   "cell_type": "markdown",
   "id": "precious-austria",
   "metadata": {},
   "source": [
    "Sensitivity /  Recall"
   ]
  },
  {
   "cell_type": "code",
   "execution_count": 222,
   "id": "incident-juvenile",
   "metadata": {},
   "outputs": [
    {
     "data": {
      "text/plain": [
       "1.0"
      ]
     },
     "execution_count": 222,
     "metadata": {},
     "output_type": "execute_result"
    }
   ],
   "source": [
    "confusion_mat[0, 0]/(confusion_mat[0, 0] + confusion_mat[0, 1])"
   ]
  },
  {
   "cell_type": "markdown",
   "id": "consecutive-cocktail",
   "metadata": {},
   "source": [
    "Specificity"
   ]
  },
  {
   "cell_type": "code",
   "execution_count": 224,
   "id": "dying-mount",
   "metadata": {},
   "outputs": [
    {
     "data": {
      "text/plain": [
       "0.2553191489361702"
      ]
     },
     "execution_count": 224,
     "metadata": {},
     "output_type": "execute_result"
    }
   ],
   "source": [
    "confusion_mat[1, 1]/(confusion_mat[1, 1] + confusion_mat[1, 0])"
   ]
  },
  {
   "cell_type": "markdown",
   "id": "wired-prevention",
   "metadata": {},
   "source": [
    "\n",
    "Precision\n"
   ]
  },
  {
   "cell_type": "code",
   "execution_count": 225,
   "id": "korean-george",
   "metadata": {},
   "outputs": [
    {
     "data": {
      "text/plain": [
       "0.8694029850746269"
      ]
     },
     "execution_count": 225,
     "metadata": {},
     "output_type": "execute_result"
    }
   ],
   "source": [
    "confusion_mat[0, 0]/(confusion_mat[0, 0] + confusion_mat[1, 0])"
   ]
  },
  {
   "cell_type": "markdown",
   "id": "passing-possibility",
   "metadata": {},
   "source": [
    "### Naive Bayes"
   ]
  },
  {
   "cell_type": "code",
   "execution_count": 102,
   "id": "electoral-innocent",
   "metadata": {},
   "outputs": [],
   "source": [
    "from pyspark.ml.classification import NaiveBayes\n",
    "from pyspark.ml.evaluation import MulticlassClassificationEvaluator"
   ]
  },
  {
   "cell_type": "markdown",
   "id": "catholic-blackberry",
   "metadata": {},
   "source": [
    "Multilabel or Multi Class Classification"
   ]
  },
  {
   "cell_type": "code",
   "execution_count": 226,
   "id": "given-debut",
   "metadata": {},
   "outputs": [],
   "source": [
    "NB = NaiveBayes(modelType= \"multinomial\", labelCol=\"Attrition\", featuresCol =\"features\" )\n",
    "nbModel = NB.fit(train)\n",
    "\n",
    "nb_predictions = nbModel.transform(test)"
   ]
  },
  {
   "cell_type": "code",
   "execution_count": 227,
   "id": "wicked-kansas",
   "metadata": {},
   "outputs": [
    {
     "name": "stdout",
     "output_type": "stream",
     "text": [
      "+----------+---------+--------------------+\n",
      "|prediction|Attrition|            features|\n",
      "+----------+---------+--------------------+\n",
      "|       0.0|        1|[18.0,0.0,1306.0,...|\n",
      "|       1.0|        1|[19.0,0.0,602.0,0...|\n",
      "|       1.0|        1|[19.0,2.0,303.0,1...|\n",
      "|       1.0|        1|[19.0,2.0,419.0,0...|\n",
      "|       1.0|        1|[20.0,0.0,769.0,0...|\n",
      "+----------+---------+--------------------+\n",
      "only showing top 5 rows\n",
      "\n"
     ]
    }
   ],
   "source": [
    "nb_predictions.select('prediction', 'Attrition', 'features').show(5)"
   ]
  },
  {
   "cell_type": "code",
   "execution_count": 228,
   "id": "dutch-chaos",
   "metadata": {},
   "outputs": [],
   "source": [
    "evaluator = MulticlassClassificationEvaluator(labelCol= \"Attrition\", predictionCol = \"prediction\", \n",
    "                                              metricName=\"accuracy\")"
   ]
  },
  {
   "cell_type": "code",
   "execution_count": 108,
   "id": "sticky-numbers",
   "metadata": {},
   "outputs": [],
   "source": [
    "nb_accuracy = evaluator.evaluate(nb_predictions)"
   ]
  },
  {
   "cell_type": "code",
   "execution_count": 109,
   "id": "personalized-present",
   "metadata": {},
   "outputs": [
    {
     "name": "stdout",
     "output_type": "stream",
     "text": [
      "Accuracy :  0.5857142857142857\n"
     ]
    }
   ],
   "source": [
    "print(\"Accuracy : \", nb_accuracy)"
   ]
  },
  {
   "cell_type": "markdown",
   "id": "outer-grave",
   "metadata": {},
   "source": [
    "Confusion Matrix"
   ]
  },
  {
   "cell_type": "code",
   "execution_count": 229,
   "id": "colonial-blanket",
   "metadata": {},
   "outputs": [
    {
     "data": {
      "text/plain": [
       "array([[139,  94],\n",
       "       [ 22,  25]])"
      ]
     },
     "execution_count": 229,
     "metadata": {},
     "output_type": "execute_result"
    }
   ],
   "source": [
    "y_true = nb_predictions.select('Attrition').toPandas()\n",
    "\n",
    "y_pred = nb_predictions.select('prediction').toPandas()\n",
    "\n",
    "confusion_mat = confusion_matrix(y_true, y_pred)\n",
    "\n",
    "confusion_mat"
   ]
  },
  {
   "cell_type": "markdown",
   "id": "synthetic-enough",
   "metadata": {},
   "source": [
    "Sensitivity /  Recall"
   ]
  },
  {
   "cell_type": "code",
   "execution_count": 230,
   "id": "drawn-parish",
   "metadata": {},
   "outputs": [
    {
     "data": {
      "text/plain": [
       "0.5965665236051502"
      ]
     },
     "execution_count": 230,
     "metadata": {},
     "output_type": "execute_result"
    }
   ],
   "source": [
    "confusion_mat[0, 0]/(confusion_mat[0, 0] + confusion_mat[0, 1])"
   ]
  },
  {
   "cell_type": "markdown",
   "id": "stuffed-burning",
   "metadata": {},
   "source": [
    "Specificity"
   ]
  },
  {
   "cell_type": "code",
   "execution_count": 231,
   "id": "alone-workstation",
   "metadata": {},
   "outputs": [
    {
     "data": {
      "text/plain": [
       "0.5319148936170213"
      ]
     },
     "execution_count": 231,
     "metadata": {},
     "output_type": "execute_result"
    }
   ],
   "source": [
    "confusion_mat[1, 1]/(confusion_mat[1, 1] + confusion_mat[1, 0])"
   ]
  },
  {
   "cell_type": "raw",
   "id": "sacred-inspector",
   "metadata": {},
   "source": [
    "\n",
    "Precision"
   ]
  },
  {
   "cell_type": "code",
   "execution_count": 232,
   "id": "eastern-punishment",
   "metadata": {},
   "outputs": [
    {
     "data": {
      "text/plain": [
       "0.8633540372670807"
      ]
     },
     "execution_count": 232,
     "metadata": {},
     "output_type": "execute_result"
    }
   ],
   "source": [
    "confusion_mat[0, 0]/(confusion_mat[0, 0] + confusion_mat[1, 0])"
   ]
  },
  {
   "cell_type": "code",
   "execution_count": null,
   "id": "coral-disorder",
   "metadata": {},
   "outputs": [],
   "source": []
  }
 ],
 "metadata": {
  "kernelspec": {
   "display_name": "Python 3",
   "language": "python",
   "name": "python3"
  },
  "language_info": {
   "codemirror_mode": {
    "name": "ipython",
    "version": 3
   },
   "file_extension": ".py",
   "mimetype": "text/x-python",
   "name": "python",
   "nbconvert_exporter": "python",
   "pygments_lexer": "ipython3",
   "version": "3.5.2"
  }
 },
 "nbformat": 4,
 "nbformat_minor": 5
}
